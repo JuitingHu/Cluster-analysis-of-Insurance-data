{
 "cells": [
  {
   "cell_type": "markdown",
   "metadata": {
    "colab_type": "text",
    "id": "buP_IK9cq4Gx"
   },
   "source": [
    "Note: All code in script is sourced from various internet sources, from mentor Tomasz Popiel and from Alan Chalk at Sabre Insurance."
   ]
  },
  {
   "cell_type": "markdown",
   "metadata": {
    "colab_type": "text",
    "id": "CwY-pGdhq4G1"
   },
   "source": [
    "## Distance Matrix\n",
    "\n",
    "Contents:\n",
    "\n",
    " - Start_: import modules, set directories, load data ('02_df_all.pickle') \n",
    " \n",
    " -  Sample non-scaled data\n",
    " \n",
    " - Scaling (numerical and histogram variables)\n",
    " \n",
    " - Distance matrix components (Numerical, Categorical, Histogram)\n",
    " \n",
    " -  Combining into final distance matrix\n",
    " \n",
    " -  Save ('03_distancematrix_40%_exclude_target.hkl')\n",
    "\n",
    "Notes:\n",
    "\n",
    " - Using more than ?% of the data the kernel 'dies'\n",
    " - Exclude target for target analysis"
   ]
  },
  {
   "cell_type": "markdown",
   "metadata": {
    "colab_type": "text",
    "id": "pMcmZLkRq4G5"
   },
   "source": [
    "### Start_:"
   ]
  },
  {
   "cell_type": "markdown",
   "metadata": {
    "colab_type": "text",
    "id": "-Bk109uzq4G8"
   },
   "source": [
    "Import modules"
   ]
  },
  {
   "cell_type": "code",
   "execution_count": 1,
   "metadata": {
    "colab": {},
    "colab_type": "code",
    "id": "ulIgm0ILq4G-"
   },
   "outputs": [],
   "source": [
    "import os\n",
    "import pickle\n",
    "import gc\n",
    "import sys\n",
    "\n",
    "import pandas as pd\n",
    "import numpy as np\n",
    "\n",
    "from scipy.spatial.distance import pdist\n",
    "from scipy.spatial.distance import squareform\n",
    "from scipy.spatial.distance import jensenshannon\n",
    "\n",
    "from sklearn.preprocessing import normalize"
   ]
  },
  {
   "cell_type": "markdown",
   "metadata": {
    "colab_type": "text",
    "id": "r1AeTCWtq4HD"
   },
   "source": [
    "Set directories"
   ]
  },
  {
   "cell_type": "code",
   "execution_count": 2,
   "metadata": {
    "colab": {},
    "colab_type": "code",
    "id": "sGEuY45Gq4HE",
    "outputId": "2565b07e-d455-4953-b5d8-b8222830a77a"
   },
   "outputs": [
    {
     "name": "stdout",
     "output_type": "stream",
     "text": [
      "C:\\Users\\hu121\\Desktop\\GROUP PROJECT\\PCode\n"
     ]
    }
   ],
   "source": [
    "print(os.getcwd())\n",
    "\n",
    "dirRawData = \"../RawData/\"\n",
    "dirPData = \"../PData/\"\n",
    "dirPOutput = \"../POutput/\""
   ]
  },
  {
   "cell_type": "markdown",
   "metadata": {
    "colab_type": "text",
    "id": "vkz4WQWKq4HK"
   },
   "source": [
    "Load data"
   ]
  },
  {
   "cell_type": "code",
   "execution_count": 3,
   "metadata": {
    "colab": {},
    "colab_type": "code",
    "id": "Vw_V6TsFq4HL",
    "outputId": "63e7dcae-daa8-4fd4-ef2c-59e2e5bc1ab3"
   },
   "outputs": [
    {
     "data": {
      "text/plain": [
       "(65196, 643)"
      ]
     },
     "execution_count": 3,
     "metadata": {},
     "output_type": "execute_result"
    }
   ],
   "source": [
    "fname = dirPData + '02_df_all.pickle' \n",
    "with open(fname, 'rb') as f:\n",
    "    dict_ = pickle.load(f)\n",
    "\n",
    "df_all = dict_['df_all']\n",
    "del fname\n",
    "df_all.shape"
   ]
  },
  {
   "cell_type": "markdown",
   "metadata": {
    "colab_type": "text",
    "id": "seRK05Skq4HS"
   },
   "source": [
    "### Sample non-scaled data"
   ]
  },
  {
   "cell_type": "code",
   "execution_count": 4,
   "metadata": {
    "colab": {},
    "colab_type": "code",
    "id": "FJM2g6lXq4HT"
   },
   "outputs": [],
   "source": [
    "df_all_2 = df_all.sample(frac=0.4, random_state=123)"
   ]
  },
  {
   "cell_type": "code",
   "execution_count": 5,
   "metadata": {
    "colab": {},
    "colab_type": "code",
    "id": "Qfxnpyvxq4Hb",
    "outputId": "944037cc-d102-4339-a0fd-7874ae5ea17f"
   },
   "outputs": [
    {
     "data": {
      "text/html": [
       "<div>\n",
       "<style scoped>\n",
       "    .dataframe tbody tr th:only-of-type {\n",
       "        vertical-align: middle;\n",
       "    }\n",
       "\n",
       "    .dataframe tbody tr th {\n",
       "        vertical-align: top;\n",
       "    }\n",
       "\n",
       "    .dataframe thead th {\n",
       "        text-align: right;\n",
       "    }\n",
       "</style>\n",
       "<table border=\"1\" class=\"dataframe\">\n",
       "  <thead>\n",
       "    <tr style=\"text-align: right;\">\n",
       "      <th></th>\n",
       "      <th>tq_db11_mean</th>\n",
       "      <th>tq_db12_mean</th>\n",
       "      <th>tq_db13_mean</th>\n",
       "      <th>tq_db14_mean</th>\n",
       "      <th>tq_dt1_mean</th>\n",
       "      <th>tq_dt2_mean</th>\n",
       "      <th>tq_dt3_mean</th>\n",
       "      <th>tq_dt4_mean</th>\n",
       "      <th>tq_db15_mean</th>\n",
       "      <th>tq_db16_mean</th>\n",
       "      <th>...</th>\n",
       "      <th>a_v7_8__97_431</th>\n",
       "      <th>a_v7_8__97_46</th>\n",
       "      <th>a_v7_8__97_647</th>\n",
       "      <th>a_v7_8__97_770</th>\n",
       "      <th>a_v7_8__97_875</th>\n",
       "      <th>a_v7_8__97_909</th>\n",
       "      <th>a_v7_8__99_37</th>\n",
       "      <th>a_v7_8__99_995</th>\n",
       "      <th>a_v7_8__99_996</th>\n",
       "      <th>a_v7_8_other</th>\n",
       "    </tr>\n",
       "  </thead>\n",
       "  <tbody>\n",
       "    <tr>\n",
       "      <th>12437</th>\n",
       "      <td>15.9672</td>\n",
       "      <td>7.3934</td>\n",
       "      <td>1.4918</td>\n",
       "      <td>0.0164</td>\n",
       "      <td>0.0984</td>\n",
       "      <td>0.0328</td>\n",
       "      <td>0.0</td>\n",
       "      <td>0.0164</td>\n",
       "      <td>0.0984</td>\n",
       "      <td>0.0984</td>\n",
       "      <td>...</td>\n",
       "      <td>0</td>\n",
       "      <td>0</td>\n",
       "      <td>0</td>\n",
       "      <td>0</td>\n",
       "      <td>0</td>\n",
       "      <td>0</td>\n",
       "      <td>0</td>\n",
       "      <td>0</td>\n",
       "      <td>0</td>\n",
       "      <td>0</td>\n",
       "    </tr>\n",
       "    <tr>\n",
       "      <th>32372</th>\n",
       "      <td>16.3125</td>\n",
       "      <td>4.4375</td>\n",
       "      <td>1.1875</td>\n",
       "      <td>0.0000</td>\n",
       "      <td>0.0000</td>\n",
       "      <td>0.0000</td>\n",
       "      <td>0.0</td>\n",
       "      <td>0.0000</td>\n",
       "      <td>0.0000</td>\n",
       "      <td>0.0000</td>\n",
       "      <td>...</td>\n",
       "      <td>0</td>\n",
       "      <td>0</td>\n",
       "      <td>0</td>\n",
       "      <td>0</td>\n",
       "      <td>0</td>\n",
       "      <td>0</td>\n",
       "      <td>0</td>\n",
       "      <td>0</td>\n",
       "      <td>0</td>\n",
       "      <td>0</td>\n",
       "    </tr>\n",
       "    <tr>\n",
       "      <th>26155</th>\n",
       "      <td>20.0000</td>\n",
       "      <td>6.8462</td>\n",
       "      <td>1.1538</td>\n",
       "      <td>0.0769</td>\n",
       "      <td>0.0000</td>\n",
       "      <td>0.0000</td>\n",
       "      <td>0.0</td>\n",
       "      <td>0.0000</td>\n",
       "      <td>0.0000</td>\n",
       "      <td>0.0000</td>\n",
       "      <td>...</td>\n",
       "      <td>0</td>\n",
       "      <td>0</td>\n",
       "      <td>0</td>\n",
       "      <td>0</td>\n",
       "      <td>0</td>\n",
       "      <td>0</td>\n",
       "      <td>0</td>\n",
       "      <td>0</td>\n",
       "      <td>0</td>\n",
       "      <td>0</td>\n",
       "    </tr>\n",
       "    <tr>\n",
       "      <th>50441</th>\n",
       "      <td>16.5000</td>\n",
       "      <td>5.0000</td>\n",
       "      <td>1.0000</td>\n",
       "      <td>0.0000</td>\n",
       "      <td>0.0000</td>\n",
       "      <td>0.0000</td>\n",
       "      <td>0.0</td>\n",
       "      <td>0.0000</td>\n",
       "      <td>0.0000</td>\n",
       "      <td>0.0000</td>\n",
       "      <td>...</td>\n",
       "      <td>0</td>\n",
       "      <td>0</td>\n",
       "      <td>0</td>\n",
       "      <td>0</td>\n",
       "      <td>0</td>\n",
       "      <td>0</td>\n",
       "      <td>0</td>\n",
       "      <td>0</td>\n",
       "      <td>0</td>\n",
       "      <td>0</td>\n",
       "    </tr>\n",
       "    <tr>\n",
       "      <th>45622</th>\n",
       "      <td>19.1250</td>\n",
       "      <td>9.8750</td>\n",
       "      <td>1.7500</td>\n",
       "      <td>0.0000</td>\n",
       "      <td>0.1250</td>\n",
       "      <td>0.0000</td>\n",
       "      <td>0.0</td>\n",
       "      <td>0.0000</td>\n",
       "      <td>0.3750</td>\n",
       "      <td>0.3750</td>\n",
       "      <td>...</td>\n",
       "      <td>0</td>\n",
       "      <td>0</td>\n",
       "      <td>0</td>\n",
       "      <td>0</td>\n",
       "      <td>0</td>\n",
       "      <td>0</td>\n",
       "      <td>0</td>\n",
       "      <td>0</td>\n",
       "      <td>0</td>\n",
       "      <td>0</td>\n",
       "    </tr>\n",
       "  </tbody>\n",
       "</table>\n",
       "<p>5 rows × 643 columns</p>\n",
       "</div>"
      ],
      "text/plain": [
       "       tq_db11_mean  tq_db12_mean  tq_db13_mean  tq_db14_mean  tq_dt1_mean  \\\n",
       "12437       15.9672        7.3934        1.4918        0.0164       0.0984   \n",
       "32372       16.3125        4.4375        1.1875        0.0000       0.0000   \n",
       "26155       20.0000        6.8462        1.1538        0.0769       0.0000   \n",
       "50441       16.5000        5.0000        1.0000        0.0000       0.0000   \n",
       "45622       19.1250        9.8750        1.7500        0.0000       0.1250   \n",
       "\n",
       "       tq_dt2_mean  tq_dt3_mean  tq_dt4_mean  tq_db15_mean  tq_db16_mean  ...  \\\n",
       "12437       0.0328          0.0       0.0164        0.0984        0.0984  ...   \n",
       "32372       0.0000          0.0       0.0000        0.0000        0.0000  ...   \n",
       "26155       0.0000          0.0       0.0000        0.0000        0.0000  ...   \n",
       "50441       0.0000          0.0       0.0000        0.0000        0.0000  ...   \n",
       "45622       0.0000          0.0       0.0000        0.3750        0.3750  ...   \n",
       "\n",
       "       a_v7_8__97_431  a_v7_8__97_46  a_v7_8__97_647  a_v7_8__97_770  \\\n",
       "12437               0              0               0               0   \n",
       "32372               0              0               0               0   \n",
       "26155               0              0               0               0   \n",
       "50441               0              0               0               0   \n",
       "45622               0              0               0               0   \n",
       "\n",
       "       a_v7_8__97_875  a_v7_8__97_909  a_v7_8__99_37  a_v7_8__99_995  \\\n",
       "12437               0               0              0               0   \n",
       "32372               0               0              0               0   \n",
       "26155               0               0              0               0   \n",
       "50441               0               0              0               0   \n",
       "45622               0               0              0               0   \n",
       "\n",
       "       a_v7_8__99_996  a_v7_8_other  \n",
       "12437               0             0  \n",
       "32372               0             0  \n",
       "26155               0             0  \n",
       "50441               0             0  \n",
       "45622               0             0  \n",
       "\n",
       "[5 rows x 643 columns]"
      ]
     },
     "execution_count": 5,
     "metadata": {},
     "output_type": "execute_result"
    }
   ],
   "source": [
    "df_all_2.head()"
   ]
  },
  {
   "cell_type": "code",
   "execution_count": 6,
   "metadata": {},
   "outputs": [
    {
     "data": {
      "text/plain": [
       "(26078, 643)"
      ]
     },
     "execution_count": 6,
     "metadata": {},
     "output_type": "execute_result"
    }
   ],
   "source": [
    "df_all_2.shape"
   ]
  },
  {
   "cell_type": "markdown",
   "metadata": {
    "colab_type": "text",
    "id": "9ZImtMIBq4Hn"
   },
   "source": [
    "### Scaling (numerical and histogram variables)"
   ]
  },
  {
   "cell_type": "markdown",
   "metadata": {
    "colab_type": "text",
    "id": "aEhbsYXgq4Ho"
   },
   "source": [
    "Numerical variables : normalise "
   ]
  },
  {
   "cell_type": "code",
   "execution_count": 7,
   "metadata": {
    "colab": {},
    "colab_type": "code",
    "id": "w5N1rJj4q4Hp"
   },
   "outputs": [],
   "source": [
    "df_scaled = normalize(df_all[dict_['vars_numeric']])\n",
    "df_scaled = pd.DataFrame(df_scaled, columns=df_all[dict_['vars_numeric']].columns)"
   ]
  },
  {
   "cell_type": "code",
   "execution_count": 8,
   "metadata": {
    "colab": {},
    "colab_type": "code",
    "id": "y40w3c7fq4Ht"
   },
   "outputs": [],
   "source": [
    "for col in dict_['vars_numeric']:\n",
    "    df_all[col] = df_scaled[col]"
   ]
  },
  {
   "cell_type": "markdown",
   "metadata": {
    "colab_type": "text",
    "id": "3LC9lAkjq4Hx"
   },
   "source": [
    "Histogram variables : divide by 100 so they sum to 1"
   ]
  },
  {
   "cell_type": "code",
   "execution_count": 9,
   "metadata": {
    "colab": {},
    "colab_type": "code",
    "id": "CEac2Ep-q4Hy"
   },
   "outputs": [],
   "source": [
    "for col in dict_['vars_hist']:\n",
    "    df_all[col] = df_all[col]/100"
   ]
  },
  {
   "cell_type": "code",
   "execution_count": 10,
   "metadata": {
    "colab": {},
    "colab_type": "code",
    "id": "zWC5mwnUq4H9",
    "outputId": "9470418e-a771-4653-a2dc-fa55532360e9"
   },
   "outputs": [
    {
     "data": {
      "text/plain": [
       "40"
      ]
     },
     "execution_count": 10,
     "metadata": {},
     "output_type": "execute_result"
    }
   ],
   "source": [
    "del df_scaled\n",
    "gc.collect()"
   ]
  },
  {
   "cell_type": "markdown",
   "metadata": {
    "colab_type": "text",
    "id": "8nYu-u4gq4IC"
   },
   "source": [
    "### Distance matrix components\n",
    "\n",
    "Create distance matrices for numerical, categorial and histogram variables separately, then later add together to get final distance matrix"
   ]
  },
  {
   "cell_type": "markdown",
   "metadata": {
    "colab_type": "text",
    "id": "iG_GVeawq4ID"
   },
   "source": [
    "#### Set weights for numerical, categorical and histgoram"
   ]
  },
  {
   "cell_type": "code",
   "execution_count": 11,
   "metadata": {
    "colab": {},
    "colab_type": "code",
    "id": "pioW6yxHq4IE"
   },
   "outputs": [],
   "source": [
    "weight_num = 1\n",
    "weight_cat = 1\n",
    "weight_his = 1"
   ]
  },
  {
   "cell_type": "markdown",
   "metadata": {
    "colab_type": "text",
    "id": "CmWSNo66q4IH"
   },
   "source": [
    "#### Downsample data"
   ]
  },
  {
   "cell_type": "code",
   "execution_count": 12,
   "metadata": {
    "colab": {},
    "colab_type": "code",
    "id": "cQaN1DSkq4II"
   },
   "outputs": [],
   "source": [
    "# randomly sample 40% of the dataset\n",
    "df_all = df_all.sample(frac=0.4, random_state=123)"
   ]
  },
  {
   "cell_type": "code",
   "execution_count": 13,
   "metadata": {
    "colab": {},
    "colab_type": "code",
    "id": "K0oMouStq4IK"
   },
   "outputs": [],
   "source": [
    "# Exclude varaibles from clustering\n",
    "vars_notToUse = ['id',\n",
    " 'tq_dt1_mean',\n",
    " 'tq_dt2_mean',\n",
    " 'tq_dt3_mean',\n",
    " 'tq_dt4_mean',\n",
    " 'tq_dt1_std',\n",
    " 'tq_dt2_std',\n",
    " 'tq_dt3_std',\n",
    " 'tq_dt4_std']\n",
    "vars_toUse = [var for var in df_all.columns if var not in vars_notToUse]"
   ]
  },
  {
   "cell_type": "code",
   "execution_count": 14,
   "metadata": {
    "colab": {},
    "colab_type": "code",
    "id": "zN-nLP8Qq4IM"
   },
   "outputs": [],
   "source": [
    "df_ds = df_all[vars_toUse]"
   ]
  },
  {
   "cell_type": "code",
   "execution_count": 15,
   "metadata": {
    "colab": {},
    "colab_type": "code",
    "id": "KGfMJZbBq4IR",
    "outputId": "70f5071d-4d6f-478d-c995-8124dd15b87b"
   },
   "outputs": [
    {
     "data": {
      "text/plain": [
       "(26078, 634)"
      ]
     },
     "execution_count": 15,
     "metadata": {},
     "output_type": "execute_result"
    }
   ],
   "source": [
    "df_ds.shape"
   ]
  },
  {
   "cell_type": "markdown",
   "metadata": {
    "colab_type": "text",
    "id": "bNT6M9ERq4IX"
   },
   "source": [
    "### Numerical Variables\n",
    "\n",
    "Using the 'pdist' function and distance metric \"cityblock\"   \n",
    "\n",
    "Considering different types of numerical varaibles separately (mean, std, mode, NMiss and tq_v3, a_v6, a_v9, a_v10, a_v11, a_v12)"
   ]
  },
  {
   "cell_type": "code",
   "execution_count": 16,
   "metadata": {
    "colab": {},
    "colab_type": "code",
    "id": "ZdTCq5l1q4IY"
   },
   "outputs": [],
   "source": [
    "vars_num_prefix_1 = ('_mean','_Mean')"
   ]
  },
  {
   "cell_type": "code",
   "execution_count": 17,
   "metadata": {
    "colab": {},
    "colab_type": "code",
    "id": "IPMoqCorq4Ic"
   },
   "outputs": [],
   "source": [
    "vars_num_prefix_2 = ('_std','_StdDev')"
   ]
  },
  {
   "cell_type": "code",
   "execution_count": 18,
   "metadata": {
    "colab": {},
    "colab_type": "code",
    "id": "Es2M_CLCq4Ig"
   },
   "outputs": [],
   "source": [
    "vars_num_prefix_3 = ('_Mode', '_NMiss')"
   ]
  },
  {
   "cell_type": "code",
   "execution_count": 19,
   "metadata": {
    "colab": {},
    "colab_type": "code",
    "id": "Yqbjyo0wq4Iv"
   },
   "outputs": [],
   "source": [
    "vars_num_prefix_4 = ['tq_v3','a_v6', 'a_v9', 'a_v10', 'a_v11', 'a_v12']"
   ]
  },
  {
   "cell_type": "code",
   "execution_count": 20,
   "metadata": {
    "colab": {},
    "colab_type": "code",
    "id": "Ym8dwt3rq4Iy"
   },
   "outputs": [],
   "source": [
    "### exclude the target variables \n",
    "\n",
    "vars_num_separate = []\n",
    "\n",
    "vars_num_separate.append([col for col in dict_['vars_numeric'] if col.endswith(vars_num_prefix_1) and not col.startswith('tq_dt1') and not col.startswith ('tq_dt2') and not col.startswith('tq_dt3') and not col.startswith ('tq_dt4')])\n",
    "\n",
    "vars_num_separate.append([col for col in dict_['vars_numeric'] if col.endswith(vars_num_prefix_2) and not col.startswith('tq_dt1') and not col.startswith ('tq_dt2') and not col.startswith('tq_dt3') and not col.startswith ('tq_dt4')])\n",
    "\n",
    "for prefix in vars_num_prefix_3:\n",
    "    vars_num_separate.append([col for col in dict_['vars_numeric'] if col.endswith(prefix)])\n",
    "\n",
    "vars_num_separate.append(vars_num_prefix_4)"
   ]
  },
  {
   "cell_type": "code",
   "execution_count": 21,
   "metadata": {
    "colab": {},
    "colab_type": "code",
    "id": "e0VBLGvzq4I0",
    "outputId": "e8eb3b65-8dfb-4160-c1c1-bffb7358f104"
   },
   "outputs": [
    {
     "data": {
      "text/plain": [
       "5"
      ]
     },
     "execution_count": 21,
     "metadata": {},
     "output_type": "execute_result"
    }
   ],
   "source": [
    "# we have a total of 5 types of numerical variables\n",
    "len(vars_num_separate)"
   ]
  },
  {
   "cell_type": "markdown",
   "metadata": {
    "colab_type": "text",
    "id": "zO6d8xpkq4I2"
   },
   "source": [
    "Combine the 5 types of numerical variables distance matrices into one distance matrix 'num_dist_mat\" and add weights. Have chosen weight 1 so no weight for now. This can be adjusted"
   ]
  },
  {
   "cell_type": "code",
   "execution_count": 22,
   "metadata": {
    "colab": {},
    "colab_type": "code",
    "id": "8nvV2bzaq4I3",
    "outputId": "0d5d1b27-b785-4295-93b1-9bc0eadff2ea"
   },
   "outputs": [
    {
     "name": "stdout",
     "output_type": "stream",
     "text": [
      "[0.57837191 0.68884797 0.96088635 ... 2.8401851  2.45359398 2.06431128]\n",
      "[0.29191958 0.31139068 1.23138086 ... 1.09042186 1.33707156 0.27702029]\n",
      "[2.30695339 2.09398696 1.39625035 ... 2.69667838 2.41657921 2.45853488]\n",
      "[0.21567934 0.30144201 0.3539212  ... 1.86786511 1.94797556 0.08143097]\n",
      "[0.30694788 0.16572437 0.20764071 ... 0.5990497  0.58536194 0.24742121]\n"
     ]
    }
   ],
   "source": [
    "num_dist_mat = None\n",
    "weights = [1, 1, 1, 1, 1]\n",
    "\n",
    "for idx, number in enumerate(vars_num_separate):\n",
    "    number_as_matrix = df_ds[number].values\n",
    "    each_distance_matrix = pdist(number_as_matrix, metric='cityblock')\n",
    "    del number_as_matrix\n",
    "    gc.collect()\n",
    "    print(each_distance_matrix)\n",
    "    #print(sys.getsizeof(each_distance_matrix)/1e9)\n",
    "    if num_dist_mat is None:\n",
    "        num_dist_mat = each_distance_matrix * weights[idx]\n",
    "    else:\n",
    "        num_dist_mat = np.sum([num_dist_mat, each_distance_matrix * weights[idx]], axis=0)\n",
    "    del each_distance_matrix\n",
    "    gc.collect()        "
   ]
  },
  {
   "cell_type": "code",
   "execution_count": 23,
   "metadata": {
    "colab": {},
    "colab_type": "code",
    "id": "-eGdhpNUq4I7",
    "outputId": "b0400031-fd9a-4042-ac0f-4664d1fe0aa8"
   },
   "outputs": [
    {
     "data": {
      "text/plain": [
       "array([3.69987209, 3.56139199, 4.15007947, ..., 9.09420014, 8.74058224,\n",
       "       5.12871862])"
      ]
     },
     "execution_count": 23,
     "metadata": {},
     "output_type": "execute_result"
    }
   ],
   "source": [
    "num_dist_mat"
   ]
  },
  {
   "cell_type": "markdown",
   "metadata": {
    "colab_type": "text",
    "id": "PIWU3tUpq4I9"
   },
   "source": [
    "### Categorical Variables\n",
    "\n",
    "Using the 'pdist' function and distance metric \"hamming\"   \n",
    "\n",
    "Considering different types of categorical variables separately ('a_v1','a_v2','a_v3','a_v4','a_v5','a_v7_8')"
   ]
  },
  {
   "cell_type": "code",
   "execution_count": 24,
   "metadata": {
    "colab": {},
    "colab_type": "code",
    "id": "B90WP-VIq4I-"
   },
   "outputs": [],
   "source": [
    "vars_cat_prefix = ('a_v1','a_v2','a_v3','a_v4','a_v5','a_v7_8')"
   ]
  },
  {
   "cell_type": "code",
   "execution_count": 25,
   "metadata": {
    "colab": {},
    "colab_type": "code",
    "id": "lou2yNk-q4JD"
   },
   "outputs": [],
   "source": [
    "vars_cat_separate = []\n",
    "for prefix in vars_cat_prefix:\n",
    "    vars_cat_separate.append([col for col in dict_['vars_cat'] if col.startswith(prefix)])"
   ]
  },
  {
   "cell_type": "code",
   "execution_count": 26,
   "metadata": {
    "colab": {},
    "colab_type": "code",
    "id": "V6g0opLLq4JI",
    "outputId": "1aa0c12b-f2fa-49db-fc26-ecffa1f80c8c"
   },
   "outputs": [
    {
     "data": {
      "text/plain": [
       "6"
      ]
     },
     "execution_count": 26,
     "metadata": {},
     "output_type": "execute_result"
    }
   ],
   "source": [
    "# we have a total of 6 categories\n",
    "len(vars_cat_separate)"
   ]
  },
  {
   "cell_type": "markdown",
   "metadata": {
    "colab_type": "text",
    "id": "Kcfftvyfq4JL"
   },
   "source": [
    "Combine the 6 types of categorical variables distance matrices into one distance matrix 'cat_dist_mat\" and add weights. Have chosen weight 1 so no weight for now. This can be adjusted"
   ]
  },
  {
   "cell_type": "code",
   "execution_count": 27,
   "metadata": {
    "colab": {},
    "colab_type": "code",
    "id": "sMLx5ti8q4JM",
    "outputId": "696e0475-ba68-4cf7-b289-adf44b77ebb8"
   },
   "outputs": [
    {
     "name": "stdout",
     "output_type": "stream",
     "text": [
      "[0.         0.         0.         ... 0.66666667 0.         0.66666667]\n",
      "[0.         0.66666667 0.         ... 0.         0.66666667 0.66666667]\n",
      "[0.66666667 0.         0.66666667 ... 0.         0.66666667 0.66666667]\n",
      "[0.         0.28571429 0.28571429 ... 0.         0.28571429 0.28571429]\n",
      "[0.4 0.4 0.4 ... 0.4 0.4 0. ]\n",
      "[0.00692042 0.00692042 0.00692042 ... 0.00692042 0.00692042 0.00692042]\n"
     ]
    }
   ],
   "source": [
    "cat_dist_mat = None\n",
    "weights = [1, 1, 1, 1, 1, 1]\n",
    "\n",
    "for idx, category in enumerate(vars_cat_separate):\n",
    "    #print(idx)\n",
    "    category_as_matrix = df_ds[category].values\n",
    "    each_distance_matrix = pdist(category_as_matrix, metric='hamming')\n",
    "    print(each_distance_matrix)\n",
    "    del category_as_matrix\n",
    "    gc.collect()\n",
    "    if cat_dist_mat is None:\n",
    "        cat_dist_mat = each_distance_matrix * weights[idx]\n",
    "    else:\n",
    "        cat_dist_mat = np.sum([cat_dist_mat, each_distance_matrix * weights[idx]], axis=0)\n",
    "    del each_distance_matrix\n",
    "    gc.collect()"
   ]
  },
  {
   "cell_type": "code",
   "execution_count": 28,
   "metadata": {
    "colab": {},
    "colab_type": "code",
    "id": "XLzoOJVrq4JO",
    "outputId": "878bfdc2-d707-418d-fb32-5a8868428fdc"
   },
   "outputs": [
    {
     "data": {
      "text/plain": [
       "array([1.07358708, 1.35930137, 1.35930137, ..., 1.07358708, 2.02596803,\n",
       "       2.2926347 ])"
      ]
     },
     "execution_count": 28,
     "metadata": {},
     "output_type": "execute_result"
    }
   ],
   "source": [
    "cat_dist_mat"
   ]
  },
  {
   "cell_type": "markdown",
   "metadata": {
    "colab_type": "text",
    "id": "GuGzmh78q4JQ"
   },
   "source": [
    "#### Combine num_dist_mat and cat_dist_mat, weights 1\n",
    "Combine num_dist_mat and cat_dist_mat to avoid storing both"
   ]
  },
  {
   "cell_type": "code",
   "execution_count": 29,
   "metadata": {
    "colab": {},
    "colab_type": "code",
    "id": "PBPPl3_Tq4JR",
    "outputId": "07a87b4b-71e6-4e3e-f380-d55039baf506"
   },
   "outputs": [
    {
     "name": "stdout",
     "output_type": "stream",
     "text": [
      "(4.935663857783519, 1.35038143386032)\n"
     ]
    }
   ],
   "source": [
    "a, b = num_dist_mat.mean(), cat_dist_mat.mean()\n",
    "print((a, b))"
   ]
  },
  {
   "cell_type": "code",
   "execution_count": 30,
   "metadata": {
    "colab": {},
    "colab_type": "code",
    "id": "CmLyhIFXq4JT",
    "outputId": "30b48e4d-9bda-480d-ed49-114a130d4a3b"
   },
   "outputs": [
    {
     "name": "stdout",
     "output_type": "stream",
     "text": [
      "[3.69987209 3.56139199 4.15007947 ... 9.09420014 8.74058224 5.12871862]\n",
      "[1.07358708 1.35930137 1.35930137 ... 1.07358708 2.02596803 2.2926347 ]\n",
      "[ 7.62384855  8.52965834  9.11834582 ... 13.0181766  16.14552499\n",
      " 13.50833193]\n"
     ]
    }
   ],
   "source": [
    "print(num_dist_mat)\n",
    "print(cat_dist_mat)\n",
    "dist_mat = np.sum([weight_num * num_dist_mat, \n",
    "                   weight_cat * a / b * cat_dist_mat\n",
    "                  ], axis=0)\n",
    "print(dist_mat)"
   ]
  },
  {
   "cell_type": "code",
   "execution_count": 31,
   "metadata": {
    "colab": {},
    "colab_type": "code",
    "id": "tzijmqNiq4JV",
    "outputId": "aee5677d-a13c-4b59-9cef-2163dc8e590c"
   },
   "outputs": [
    {
     "data": {
      "text/plain": [
       "4.935663857783513"
      ]
     },
     "execution_count": 31,
     "metadata": {},
     "output_type": "execute_result"
    }
   ],
   "source": [
    "# mean values are the same \n",
    "(weight_cat * a / b * cat_dist_mat).mean()"
   ]
  },
  {
   "cell_type": "code",
   "execution_count": 32,
   "metadata": {
    "colab": {},
    "colab_type": "code",
    "id": "bjilP6cAq4JX",
    "outputId": "d02393e5-c8ba-41f3-d359-219f0725896d"
   },
   "outputs": [
    {
     "data": {
      "text/plain": [
       "4.935663857783519"
      ]
     },
     "execution_count": 32,
     "metadata": {},
     "output_type": "execute_result"
    }
   ],
   "source": [
    "(weight_num * num_dist_mat).mean()"
   ]
  },
  {
   "cell_type": "code",
   "execution_count": 33,
   "metadata": {
    "colab": {},
    "colab_type": "code",
    "id": "KzyZogkSq4Jb",
    "outputId": "0f66e6b8-a77c-4a8f-fd47-4e5d5198531e"
   },
   "outputs": [
    {
     "data": {
      "text/plain": [
       "120"
      ]
     },
     "execution_count": 33,
     "metadata": {},
     "output_type": "execute_result"
    }
   ],
   "source": [
    "del num_dist_mat, cat_dist_mat\n",
    "gc.collect()"
   ]
  },
  {
   "cell_type": "markdown",
   "metadata": {
    "colab_type": "text",
    "id": "StUAnLGKq4Je"
   },
   "source": [
    "### Histogram Variables\n",
    "\n",
    "Using the 'pdist' function and distance metric \"jensenshannon\"   \n",
    "\n",
    "Considering different histogram variables separately"
   ]
  },
  {
   "cell_type": "code",
   "execution_count": 34,
   "metadata": {
    "colab": {},
    "colab_type": "code",
    "id": "et8Y2LDpq4Je"
   },
   "outputs": [],
   "source": [
    "vars_hist_prefix = ('tq_db24', 'tq_db25', 'tq_db27', 'tq_db28', 'tq_db29', 'tq_db30','tq_db31',\n",
    "                           'tq_v4', 'tq_v5', 'tq_db32', 'tq_db33', 'tq_db34', \n",
    "                           'tq_da12','tq_da13', 'tq_da14',\n",
    "                           'tq_db35', 'tq_db36','tq_db37', 'tq_db38',\n",
    "                           'tq_db39', 'tq_db40', 'tq_db41', 'tq_db42',\n",
    "                           'tq_db43', 'tq_db45', 'tq_db46',\n",
    "                           'tq_db47', 'tq_db48', 'tq_db49', 'tq_db50')"
   ]
  },
  {
   "cell_type": "code",
   "execution_count": 35,
   "metadata": {
    "colab": {},
    "colab_type": "code",
    "id": "tTy8O1ERq4Jg"
   },
   "outputs": [],
   "source": [
    "vars_hist_separate = []\n",
    "for prefix in vars_hist_prefix:\n",
    "    vars_hist_separate.append([col for col in dict_['vars_hist'] if col.startswith(prefix)])"
   ]
  },
  {
   "cell_type": "code",
   "execution_count": 36,
   "metadata": {
    "colab": {},
    "colab_type": "code",
    "id": "hpPZeWAkq4Jh",
    "outputId": "776ba8e3-e06a-44e7-dbfd-55b816a1afde"
   },
   "outputs": [
    {
     "data": {
      "text/plain": [
       "30"
      ]
     },
     "execution_count": 36,
     "metadata": {},
     "output_type": "execute_result"
    }
   ],
   "source": [
    "# we have a total of 30 histograms\n",
    "len(vars_hist_separate)"
   ]
  },
  {
   "cell_type": "markdown",
   "metadata": {
    "colab_type": "text",
    "id": "pvPBSM6Rq4Jj"
   },
   "source": [
    "Combine the 30 histogram variables distance matrices into one distance matrix 'hist_dist_mat\" and add weights. Have chosen weight 1 so no weight for now. This can be adjusted"
   ]
  },
  {
   "cell_type": "code",
   "execution_count": 37,
   "metadata": {
    "colab": {},
    "colab_type": "code",
    "id": "ol6efqMNq4Jk",
    "outputId": "2b73f859-e9a3-4454-fead-839121ac47ee"
   },
   "outputs": [
    {
     "name": "stdout",
     "output_type": "stream",
     "text": [
      "[0.32110426 0.02630462 0.7266391  ... 0.09179598 0.59808206 0.67061198]\n",
      "[0.         0.         0.         ... 0.04931695 0.04931695 0.        ]\n",
      "[0.17577947 0.10663291 0.42821022 ... 0.2586753  0.2586753  0.        ]\n",
      "[0.11384739 0.07656987 0.36037072 ... 0.24880716 0.22703097 0.43901618]\n",
      "[0.30412519 0.29689756 0.44052665 ... 0.46797386 0.3820038  0.65037642]\n",
      "[0.65673232 0.64414187 0.78745939 ... 0.69200416 0.65425322 0.76307865]\n",
      "[0.2189326  0.25761886 0.54726255 ... 0.18085451 0.48195524 0.55821913]\n",
      "[0.30858726 0.30550598 0.72655756 ... 0.55198623 0.78528805 0.69115949]\n",
      "[0.07468223 0.10663291 0.07468223 ... 0.03226217 0.03226217 0.        ]\n",
      "[0.05780056 0.15466943 0.48424546 ... 0.5852847  0.68530015 0.79189789]\n",
      "[0.10758877 0.06914959 0.10758877 ... 0.13305994 0.12591579 0.17637815]\n",
      "[0.10758877 0.06914959 0.10758877 ... 0.15203749 0.13142379 0.14322511]\n",
      "[0.49549307 0.5092181  0.70161271 ... 0.49438697 0.75834965 0.67061198]\n",
      "[0.25468087 0.07946667 0.74024851 ... 0.06622751 0.56127941 0.50651517]\n",
      "[0.15659199 0.06840507 0.62993708 ... 0.06622751 0.56127941 0.50651517]\n",
      "[0.67384875 0.1993494  0.75457542 ... 0.7707952  0.83017444 0.79189789]\n",
      "[0.67384875 0.1993494  0.75457542 ... 0.77112025 0.8301786  0.76302416]\n",
      "[0.37153809 0.22844078 0.67554096 ... 0.64826227 0.81843588 0.73685916]\n",
      "[0.43459014 0.23565165 0.66407262 ... 0.65082683 0.81842408 0.73685916]\n",
      "[0.23534874 0.16818887 0.44970293 ... 0.41113008 0.34180915 0.67048923]\n",
      "[0.11641324 0.1527803  0.45001383 ... 0.38424068 0.32871205 0.65023877]\n",
      "[0.14941096 0.         0.         ... 0.01861985 0.01861985 0.        ]\n",
      "[0.14941096 0.         0.         ... 0.01861985 0.01861985 0.        ]\n",
      "[0.04990181 0.0763181  0.00565707 ... 0.43334173 0.30090866 0.67061198]\n",
      "[0.10758877 0.10758877 0.10758877 ... 0.00872912 0.09350645 0.10078348]\n",
      "[0.07088945 0.28316493 0.28316493 ... 0.40201712 0.22703097 0.40484144]\n",
      "[0.37024069 0.26596371 0.28316493 ... 0.40586509 0.32587687 0.45621903]\n",
      "[0.35409719 0.26596371 0.28316493 ... 0.35730321 0.3346388  0.40520444]\n",
      "[0.         0.         0.         ... 0.06462965 0.06462965 0.        ]\n",
      "[0.         0.         0.         ... 0.06462965 0.06462965 0.        ]\n"
     ]
    }
   ],
   "source": [
    "hist_dist_mat = None\n",
    "weights = [1, 1, 1, 1, 1, 1, 1, 1, 1, 1, 1, 1, 1, 1, 1, 1, 1, 1, 1, 1, 1, 1, 1, 1, 1, 1, 1, 1, 1, 1]\n",
    "\n",
    "for idx, histogram in enumerate(vars_hist_separate):\n",
    "    #print(idx)\n",
    "    histogram_as_matrix = df_ds[histogram].values\n",
    "    each_distance_matrix = pdist(histogram_as_matrix, metric='jensenshannon')\n",
    "    print(each_distance_matrix)\n",
    "    del histogram_as_matrix\n",
    "    gc.collect()\n",
    "    if hist_dist_mat is None:\n",
    "        hist_dist_mat = each_distance_matrix * weights[idx]\n",
    "    else:\n",
    "        hist_dist_mat = np.sum([hist_dist_mat, each_distance_matrix * weights[idx]], axis=0)\n",
    "    del each_distance_matrix\n",
    "    gc.collect()"
   ]
  },
  {
   "cell_type": "code",
   "execution_count": 38,
   "metadata": {
    "colab": {},
    "colab_type": "code",
    "id": "1zGOLPAaq4Jm",
    "outputId": "25891e8f-a47f-4f78-afbc-3cacf288489d"
   },
   "outputs": [
    {
     "data": {
      "text/plain": [
       "array([ 7.11066234,  4.95312266, 11.57415155, ...,  9.48103102,\n",
       "       11.7086109 , 12.95463409])"
      ]
     },
     "execution_count": 38,
     "metadata": {},
     "output_type": "execute_result"
    }
   ],
   "source": [
    "hist_dist_mat                                                                                                                                                                                                                                                                                                                                                                                                       "
   ]
  },
  {
   "cell_type": "markdown",
   "metadata": {
    "colab_type": "text",
    "id": "rE2tFnE5q4Jn"
   },
   "source": [
    "### Combining into final distance matrix\n",
    "Combining the numerical, categorical and histogram distance matrices into one distance matrix D_3 (apply weights above)"
   ]
  },
  {
   "cell_type": "code",
   "execution_count": 39,
   "metadata": {
    "colab": {},
    "colab_type": "code",
    "id": "sdmCDhcBq4Jo",
    "outputId": "763d4fed-239e-472c-e07b-47340e2dd472",
    "scrolled": true
   },
   "outputs": [
    {
     "name": "stdout",
     "output_type": "stream",
     "text": [
      "(4.935663857783519, 1.35038143386032, 8.00606922742677)\n"
     ]
    }
   ],
   "source": [
    "c = hist_dist_mat.mean()\n",
    "print((a, b, c))"
   ]
  },
  {
   "cell_type": "code",
   "execution_count": 40,
   "metadata": {
    "colab": {},
    "colab_type": "code",
    "id": "Un02lCqnq4Jq"
   },
   "outputs": [],
   "source": [
    "dist_mat = np.sum([dist_mat, weight_his * a / c * hist_dist_mat], axis=0)"
   ]
  },
  {
   "cell_type": "code",
   "execution_count": 41,
   "metadata": {
    "colab": {},
    "colab_type": "code",
    "id": "z6c9n-Igq4Js",
    "outputId": "13f8c290-b46c-4dda-dc27-38fb8d03129c"
   },
   "outputs": [
    {
     "data": {
      "text/plain": [
       "4.935663857783545"
      ]
     },
     "execution_count": 41,
     "metadata": {},
     "output_type": "execute_result"
    }
   ],
   "source": [
    "# mean values are the same\n",
    "(weight_his * a / c * hist_dist_mat).mean()"
   ]
  },
  {
   "cell_type": "code",
   "execution_count": 42,
   "metadata": {
    "colab": {},
    "colab_type": "code",
    "id": "uwGR4KeJq4Ju",
    "outputId": "aeae9e6f-d6d6-4b56-eee5-15abdda17beb"
   },
   "outputs": [
    {
     "data": {
      "text/plain": [
       "100"
      ]
     },
     "execution_count": 42,
     "metadata": {},
     "output_type": "execute_result"
    }
   ],
   "source": [
    "del hist_dist_mat\n",
    "gc.collect()"
   ]
  },
  {
   "cell_type": "code",
   "execution_count": 43,
   "metadata": {
    "colab": {},
    "colab_type": "code",
    "id": "peIkDckkq4Jw",
    "outputId": "aa976a76-b5ff-493d-f94d-b162251fa2f6"
   },
   "outputs": [
    {
     "data": {
      "text/plain": [
       "20"
      ]
     },
     "execution_count": 43,
     "metadata": {},
     "output_type": "execute_result"
    }
   ],
   "source": [
    "D_3 = dist_mat\n",
    "del dist_mat\n",
    "gc.collect()"
   ]
  },
  {
   "cell_type": "markdown",
   "metadata": {
    "colab_type": "text",
    "id": "M371Bkumq4Jy"
   },
   "source": [
    "### Save"
   ]
  },
  {
   "cell_type": "code",
   "execution_count": 44,
   "metadata": {
    "colab": {},
    "colab_type": "code",
    "id": "nA5nFMqjq4Jz",
    "outputId": "eef3786e-f90e-4ccc-8d43-156681d58fc7"
   },
   "outputs": [
    {
     "name": "stderr",
     "output_type": "stream",
     "text": [
      "C:\\Users\\hu121\\Anaconda3\\lib\\site-packages\\hickle\\hickle.py:403: SerializedWarning: <class 'pandas.core.frame.DataFrame'> type not understood, data have been serialized\n",
      "  SerializedWarning)\n"
     ]
    }
   ],
   "source": [
    "import hickle as hkl \n",
    "\n",
    "dict_['df_all_2'] = df_all_2  # 40% of non scaled dataset\n",
    "dict_['df_all'] = df_all  # 40% of scaled dataset\n",
    "dict_['D_3'] = D_3 # a condensed distance matrix\n",
    "\n",
    "fname = dirPData + '03a_distancematrix_40%_exclude_target.hkl'\n",
    "\n",
    "with open(fname, 'w') as f:\n",
    "    hkl.dump(dict_, f)\n",
    "\n",
    "del dict_, fname, df_all"
   ]
  }
 ],
 "metadata": {
  "colab": {
   "name": "03_DistanceMatrix.ipynb",
   "provenance": [],
   "version": "0.3.2"
  },
  "kernelspec": {
   "display_name": "Python 3",
   "language": "python",
   "name": "python3"
  },
  "language_info": {
   "codemirror_mode": {
    "name": "ipython",
    "version": 3
   },
   "file_extension": ".py",
   "mimetype": "text/x-python",
   "name": "python",
   "nbconvert_exporter": "python",
   "pygments_lexer": "ipython3",
   "version": "3.7.3"
  }
 },
 "nbformat": 4,
 "nbformat_minor": 1
}
