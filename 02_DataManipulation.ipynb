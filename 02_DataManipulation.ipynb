{
 "cells": [
  {
   "cell_type": "markdown",
   "metadata": {
    "colab_type": "text",
    "id": "HIrbTtQjpwUx"
   },
   "source": [
    "Note: All code in script is sourced from various internet sources, from mentor Tomasz Popiel and from Alan Chalk at Sabre Insurance."
   ]
  },
  {
   "cell_type": "markdown",
   "metadata": {
    "colab_type": "text",
    "id": "7VqWU40GpwUz"
   },
   "source": [
    "## Data manipulation\n",
    "\n",
    "Contents:\n",
    "\n",
    " - Start_: import modules, set directories, load data ('01_df_all.pickle')\n",
    " \n",
    " - Omit the identical and all 0 columns\n",
    " \n",
    " - Deal with missing values \n",
    " \n",
    " - One hot encoding categorical variables \n",
    " \n",
    " - Deal with hccv's (a_v7 and a_v8)\n",
    " \n",
    " - Defining variables and save clean data ('02_df_all.pickle')\n",
    "\n",
    "Notes:\n",
    "\n",
    " - remove 144 records where a_v6 is missing"
   ]
  },
  {
   "cell_type": "markdown",
   "metadata": {
    "colab_type": "text",
    "id": "Z5zHWs1ApwU3"
   },
   "source": [
    "### Start_:"
   ]
  },
  {
   "cell_type": "markdown",
   "metadata": {
    "colab_type": "text",
    "id": "v01x5MMTpwU7"
   },
   "source": [
    "Import modules"
   ]
  },
  {
   "cell_type": "code",
   "execution_count": 1,
   "metadata": {
    "colab": {},
    "colab_type": "code",
    "id": "lkk2p7JtpwU9"
   },
   "outputs": [],
   "source": [
    "import os\n",
    "import pickle\n",
    "import pandas as pd"
   ]
  },
  {
   "cell_type": "markdown",
   "metadata": {
    "colab_type": "text",
    "id": "z6BChcpWpwVE"
   },
   "source": [
    "Set directories"
   ]
  },
  {
   "cell_type": "code",
   "execution_count": 2,
   "metadata": {
    "colab": {},
    "colab_type": "code",
    "id": "NKEC4KqYpwVH",
    "outputId": "60e6962a-45ee-4cdb-cd92-dabfcf6fd2e7"
   },
   "outputs": [
    {
     "name": "stdout",
     "output_type": "stream",
     "text": [
      "/Users/hujuiting/Desktop/QM-BA/GROUP PROJECT/PCode\n"
     ]
    }
   ],
   "source": [
    "print(os.getcwd())\n",
    "\n",
    "dirRawData = \"../RawData/\"\n",
    "dirPData = \"../PData/\"\n",
    "dirPOutput = \"../POutput/\""
   ]
  },
  {
   "cell_type": "markdown",
   "metadata": {
    "colab_type": "text",
    "id": "6cyiyJV9pwVL"
   },
   "source": [
    "Load data"
   ]
  },
  {
   "cell_type": "code",
   "execution_count": 3,
   "metadata": {
    "colab": {},
    "colab_type": "code",
    "id": "18iPbr1IpwVN",
    "outputId": "6a6793c5-f3b3-4d53-df39-6dcb6ddd9870"
   },
   "outputs": [
    {
     "data": {
      "text/plain": [
       "(65340, 347)"
      ]
     },
     "execution_count": 3,
     "metadata": {},
     "output_type": "execute_result"
    }
   ],
   "source": [
    "fname = dirPData + '01_df_all.pickle'\n",
    "with open(fname, 'rb') as f:\n",
    "    dict_ = pickle.load(f)\n",
    "\n",
    "\n",
    "# %% Load data\n",
    "\n",
    "df_all = dict_['df_all']\n",
    "del fname\n",
    "df_all.shape"
   ]
  },
  {
   "cell_type": "markdown",
   "metadata": {
    "colab_type": "text",
    "id": "Ni_1HFNQpwVT"
   },
   "source": [
    "### Omit variables\n",
    "\n",
    "Omit duplicate variables and variables with all values 0\n",
    "\n",
    " - tq_db_26 is duplicate of tq_db_25    \n",
    " - tq_db_44 is duplicate of tq_db_43    \n",
    " - tq_db33_13 and tq_db34_13 values are all 0"
   ]
  },
  {
   "cell_type": "code",
   "execution_count": 4,
   "metadata": {
    "colab": {},
    "colab_type": "code",
    "id": "lNuJEZvapwVU"
   },
   "outputs": [],
   "source": [
    "df_all.drop(['tq_db26_1','tq_db26_2','tq_db33_13','tq_db34_13','tq_db44_1','tq_db44_2','tq_db44_3'], axis=1, inplace=True)"
   ]
  },
  {
   "cell_type": "markdown",
   "metadata": {
    "colab_type": "text",
    "id": "XWlbWq-EpwVc"
   },
   "source": [
    "### Deal with missing values"
   ]
  },
  {
   "cell_type": "markdown",
   "metadata": {
    "colab_type": "text",
    "id": "s0oV63pXpwVd"
   },
   "source": [
    "Check for missing values"
   ]
  },
  {
   "cell_type": "code",
   "execution_count": 5,
   "metadata": {
    "colab": {},
    "colab_type": "code",
    "id": "B9HojVkRpwVf",
    "outputId": "492bc073-7097-4da8-9911-0a4c718b217f",
    "scrolled": true
   },
   "outputs": [
    {
     "data": {
      "text/plain": [
       "tq_v3_mean          1\n",
       "tq_db11_std      3693\n",
       "tq_db12_std      3693\n",
       "tq_db13_std      3693\n",
       "tq_db14_std      3693\n",
       "tq_dt1_std       3693\n",
       "tq_dt2_std       3693\n",
       "tq_dt3_std       3693\n",
       "tq_dt4_std       3693\n",
       "tq_db15_std      3693\n",
       "tq_db16_std      3693\n",
       "tq_db17_std      3693\n",
       "tq_db18_std      3693\n",
       "tq_db19_std      3693\n",
       "tq_db20_std      3693\n",
       "tq_db21_std      3693\n",
       "tq_db22_std      3693\n",
       "tq_db23_std      3693\n",
       "tq_v3_std        3693\n",
       "tq_da1_Mean       370\n",
       "tq_db4_Mean       366\n",
       "tq_db5_Mean       366\n",
       "tq_db6_Mean       366\n",
       "tq_db7_Mean       366\n",
       "tq_db8_Mean       365\n",
       "tq_db9_Mean       365\n",
       "tq_db10_Mean     3503\n",
       "tq_v2_Mean         13\n",
       "tq_da1_Mode      6980\n",
       "tq_db1_Mode      4148\n",
       "                ...  \n",
       "tq_db46_17      65339\n",
       "tq_db47_2        6584\n",
       "tq_db47_3       12819\n",
       "tq_db47_4       19345\n",
       "tq_db47_5       26138\n",
       "tq_db47_6       33333\n",
       "tq_db47_7       41953\n",
       "tq_db47_8       52425\n",
       "tq_db47_9       61329\n",
       "tq_db47_10      65334\n",
       "tq_db48_2        6379\n",
       "tq_db48_3       12246\n",
       "tq_db48_4       18003\n",
       "tq_db48_5       24196\n",
       "tq_db48_6       31154\n",
       "tq_db48_7       40492\n",
       "tq_db48_8       51489\n",
       "tq_db48_9       60907\n",
       "tq_db48_10      65335\n",
       "tq_db49_2       27020\n",
       "tq_db49_3       60220\n",
       "tq_db49_4       64749\n",
       "tq_db50_2       28562\n",
       "tq_db50_3       60577\n",
       "tq_db50_4       64804\n",
       "a_v6              144\n",
       "a_v9              365\n",
       "a_v10           12827\n",
       "a_v11            4384\n",
       "a_v12           12838\n",
       "Length: 247, dtype: int64"
      ]
     },
     "execution_count": 5,
     "metadata": {},
     "output_type": "execute_result"
    }
   ],
   "source": [
    "srs_nulls = df_all.isnull().sum()\n",
    "srs_nulls[srs_nulls > 0]"
   ]
  },
  {
   "cell_type": "markdown",
   "metadata": {
    "colab_type": "text",
    "id": "qFWMWPIzpwVk"
   },
   "source": [
    "Deal with a_v6 missings \n",
    "\n",
    "-  delete data entries where a_v6 is missing because they were included in error and are not real objects"
   ]
  },
  {
   "cell_type": "code",
   "execution_count": 6,
   "metadata": {
    "colab": {},
    "colab_type": "code",
    "id": "l81o_ZWipwVl",
    "outputId": "d652778b-aae3-455c-8068-f8a1ae1b028a"
   },
   "outputs": [
    {
     "name": "stdout",
     "output_type": "stream",
     "text": [
      "(65196, 340)\n"
     ]
    }
   ],
   "source": [
    "df_all.dropna(axis=0, subset=['a_v6'], inplace=True)\n",
    "df_all.reset_index(drop=True, inplace=True)\n",
    "print(df_all.shape)"
   ]
  },
  {
   "cell_type": "markdown",
   "metadata": {
    "colab_type": "text",
    "id": "8kQ66JGapwVp"
   },
   "source": [
    "Deal with histogram variables missing values \n",
    "\n",
    "- Replace missing values in histogram variables with 0"
   ]
  },
  {
   "cell_type": "code",
   "execution_count": 7,
   "metadata": {
    "colab": {},
    "colab_type": "code",
    "id": "mGUmEPShpwVq"
   },
   "outputs": [],
   "source": [
    "vars_hist_prefix = ('tq_db24', 'tq_db25', 'tq_db27', 'tq_db28', 'tq_db29', 'tq_db30','tq_db31',\n",
    "                           'tq_v4', 'tq_v5', 'tq_db32', 'tq_db33', 'tq_db34', \n",
    "                           'tq_da12','tq_da13', 'tq_da14',\n",
    "                           'tq_db35', 'tq_db36','tq_db37', 'tq_db38',\n",
    "                           'tq_db39', 'tq_db40', 'tq_db41', 'tq_db42',\n",
    "                           'tq_db43', 'tq_db45', 'tq_db46',\n",
    "                           'tq_db47', 'tq_db48', 'tq_db49', 'tq_db50')"
   ]
  },
  {
   "cell_type": "code",
   "execution_count": 8,
   "metadata": {
    "colab": {},
    "colab_type": "code",
    "id": "9c0ssmGopwVt"
   },
   "outputs": [],
   "source": [
    "vars_hist = [col for col in df_all.columns if col.startswith(vars_hist_prefix)]"
   ]
  },
  {
   "cell_type": "code",
   "execution_count": 9,
   "metadata": {
    "colab": {},
    "colab_type": "code",
    "id": "2cl6qAxkpwV0"
   },
   "outputs": [],
   "source": [
    "for column in vars_hist:\n",
    "    df_all[column].fillna(0, inplace=True)"
   ]
  },
  {
   "cell_type": "markdown",
   "metadata": {
    "colab_type": "text",
    "id": "wYnQbyMvpwV4"
   },
   "source": [
    "Deal with numerical variables missing values \n",
    "\n",
    "- Replace missing values in numerical variables with mean value"
   ]
  },
  {
   "cell_type": "code",
   "execution_count": 10,
   "metadata": {
    "colab": {},
    "colab_type": "code",
    "id": "S9zHdDyspwV6"
   },
   "outputs": [],
   "source": [
    "vars_numeric = [var for var in df_all.columns if var.endswith(('_mean', '_std', '_Mean', '_Mode', '_StdDev','_NMiss'))]"
   ]
  },
  {
   "cell_type": "code",
   "execution_count": 11,
   "metadata": {
    "colab": {},
    "colab_type": "code",
    "id": "YqOEz6YxpwV9"
   },
   "outputs": [],
   "source": [
    "for column in vars_numeric:\n",
    "    df_all[column].fillna((df_all[column].mean()), inplace=True)"
   ]
  },
  {
   "cell_type": "code",
   "execution_count": 12,
   "metadata": {
    "colab": {},
    "colab_type": "code",
    "id": "-jvNrxSXpwV_"
   },
   "outputs": [],
   "source": [
    "for col in ['a_v9', 'a_v10', 'a_v11', 'a_v12']:\n",
    "    \n",
    "    df_all[col].fillna((df_all[col].mean()), inplace=True)"
   ]
  },
  {
   "cell_type": "markdown",
   "metadata": {
    "colab_type": "text",
    "id": "kvyO-nnYpwWA"
   },
   "source": [
    "## One hot encoding categorical variables\n",
    "One hot encoding for categorical variables: a_v1, a_v2, a_v3, a_v4, a_v5 "
   ]
  },
  {
   "cell_type": "code",
   "execution_count": 13,
   "metadata": {
    "colab": {},
    "colab_type": "code",
    "id": "bTTj4oRcpwWB"
   },
   "outputs": [],
   "source": [
    "for var in ['a_v1', 'a_v2', 'a_v3', 'a_v4', 'a_v5']:\n",
    "    df_onehot = pd.get_dummies(df_all[var], prefix = var + '_') \n",
    "    df_all = df_all.join(df_onehot)\n",
    "    df_all.drop([var], axis=1, inplace=True)"
   ]
  },
  {
   "cell_type": "markdown",
   "metadata": {
    "colab_type": "text",
    "id": "kSj6TmNEpwWD"
   },
   "source": [
    "## Deal with hccv's \n",
    "\n",
    "a_v7 and a_v8 are hccv's (a_v8 is a lower hierarchy under a_v7)"
   ]
  },
  {
   "cell_type": "markdown",
   "metadata": {
    "colab_type": "text",
    "id": "O_Wv7sCPpwWE"
   },
   "source": [
    "Concatenate a_v7 and a_v8, creating new variable a_v7_8 "
   ]
  },
  {
   "cell_type": "code",
   "execution_count": 14,
   "metadata": {
    "colab": {},
    "colab_type": "code",
    "id": "eW274Js6pwWE"
   },
   "outputs": [],
   "source": [
    "df_all['a_v7_8'] = df_all['a_v7'].map(str) + '_' + df_all['a_v8'].map(str)"
   ]
  },
  {
   "cell_type": "markdown",
   "metadata": {
    "colab_type": "text",
    "id": "tj4hsKsxpwWH"
   },
   "source": [
    "Count the number of each category in new variables a_v7_8"
   ]
  },
  {
   "cell_type": "code",
   "execution_count": 15,
   "metadata": {
    "colab": {},
    "colab_type": "code",
    "id": "ufv1Q1qfpwWH"
   },
   "outputs": [],
   "source": [
    "df2 = df_all['a_v7_8'].value_counts()\n",
    "\n",
    "# Make the counts a data frame df2\n",
    "df2 = pd.DataFrame(data=df2)"
   ]
  },
  {
   "cell_type": "code",
   "execution_count": 16,
   "metadata": {
    "colab": {},
    "colab_type": "code",
    "id": "-qlFQwzQpwWK"
   },
   "outputs": [],
   "source": [
    "# To get the cumulative percentage of each category in new varaible a_v7_8\n",
    "df2['Cumulative_Percentage'] = 100*df2.a_v7_8.cumsum()/df2.a_v7_8.sum()"
   ]
  },
  {
   "cell_type": "markdown",
   "metadata": {},
   "source": [
    "listing out all the catogories with freq <= 24\n",
    " - one hot the whole feature\n",
    " - sum the columns in the resulting matrix and keep only cols with sum >= 25\n",
    " - add one final column \"other\""
   ]
  },
  {
   "cell_type": "markdown",
   "metadata": {
    "colab_type": "text",
    "id": "xr-wXf6CpwWM"
   },
   "source": [
    "One hot encode new variables a_v7_8"
   ]
  },
  {
   "cell_type": "code",
   "execution_count": 17,
   "metadata": {
    "colab": {},
    "colab_type": "code",
    "id": "NGF6il0kpwWN"
   },
   "outputs": [],
   "source": [
    "# one hot the whole varaible a_v7_8\n",
    "df2 = pd.get_dummies(df_all['a_v7_8'], prefix = 'a_v7_8' + '_') \n",
    "\n",
    "# sum the varaibles in the resulting matrix\n",
    "df2_freq = df2.sum(axis=0)\n",
    "\n",
    "# keep only varaibles with frequency <= 24\n",
    "idx_freq = df2_freq.values >= 25\n",
    "df2 = df2.iloc[:, idx_freq]\n",
    "\n",
    "# add varaible \"other\"\n",
    "df2['a_v7_8_other'] = 1 - df2.sum(axis=1)\n",
    "\n",
    "df_all = df_all.join(df2)"
   ]
  },
  {
   "cell_type": "code",
   "execution_count": 18,
   "metadata": {
    "colab": {},
    "colab_type": "code",
    "id": "HRvCxgc-pwWQ"
   },
   "outputs": [],
   "source": [
    "# Drop variables a_v7_8, av7 and av8\n",
    "df_all.drop(['a_v7_8'], axis=1, inplace=True)\n",
    "df_all.drop(['a_v7'], axis=1, inplace=True)\n",
    "df_all.drop(['a_v8'], axis=1, inplace=True)"
   ]
  },
  {
   "cell_type": "code",
   "execution_count": 19,
   "metadata": {},
   "outputs": [
    {
     "data": {
      "text/plain": [
       "(65196, 643)"
      ]
     },
     "execution_count": 19,
     "metadata": {},
     "output_type": "execute_result"
    }
   ],
   "source": [
    "df_all.shape"
   ]
  },
  {
   "cell_type": "code",
   "execution_count": 20,
   "metadata": {},
   "outputs": [
    {
     "data": {
      "text/html": [
       "<div>\n",
       "<style scoped>\n",
       "    .dataframe tbody tr th:only-of-type {\n",
       "        vertical-align: middle;\n",
       "    }\n",
       "\n",
       "    .dataframe tbody tr th {\n",
       "        vertical-align: top;\n",
       "    }\n",
       "\n",
       "    .dataframe thead th {\n",
       "        text-align: right;\n",
       "    }\n",
       "</style>\n",
       "<table border=\"1\" class=\"dataframe\">\n",
       "  <thead>\n",
       "    <tr style=\"text-align: right;\">\n",
       "      <th></th>\n",
       "      <th>tq_db11_mean</th>\n",
       "      <th>tq_db12_mean</th>\n",
       "      <th>tq_db13_mean</th>\n",
       "      <th>tq_db14_mean</th>\n",
       "      <th>tq_dt1_mean</th>\n",
       "      <th>tq_dt2_mean</th>\n",
       "      <th>tq_dt3_mean</th>\n",
       "      <th>tq_dt4_mean</th>\n",
       "      <th>tq_db15_mean</th>\n",
       "      <th>tq_db16_mean</th>\n",
       "      <th>...</th>\n",
       "      <th>a_v7_8__97_431</th>\n",
       "      <th>a_v7_8__97_46</th>\n",
       "      <th>a_v7_8__97_647</th>\n",
       "      <th>a_v7_8__97_770</th>\n",
       "      <th>a_v7_8__97_875</th>\n",
       "      <th>a_v7_8__97_909</th>\n",
       "      <th>a_v7_8__99_37</th>\n",
       "      <th>a_v7_8__99_995</th>\n",
       "      <th>a_v7_8__99_996</th>\n",
       "      <th>a_v7_8_other</th>\n",
       "    </tr>\n",
       "  </thead>\n",
       "  <tbody>\n",
       "    <tr>\n",
       "      <th>0</th>\n",
       "      <td>14.6561</td>\n",
       "      <td>5.8498</td>\n",
       "      <td>1.4466</td>\n",
       "      <td>0.0079</td>\n",
       "      <td>0.1502</td>\n",
       "      <td>0.1146</td>\n",
       "      <td>0.0079</td>\n",
       "      <td>0.0040</td>\n",
       "      <td>0.0514</td>\n",
       "      <td>0.0593</td>\n",
       "      <td>...</td>\n",
       "      <td>0</td>\n",
       "      <td>0</td>\n",
       "      <td>0</td>\n",
       "      <td>0</td>\n",
       "      <td>0</td>\n",
       "      <td>0</td>\n",
       "      <td>0</td>\n",
       "      <td>0</td>\n",
       "      <td>0</td>\n",
       "      <td>0</td>\n",
       "    </tr>\n",
       "    <tr>\n",
       "      <th>1</th>\n",
       "      <td>16.4545</td>\n",
       "      <td>12.6364</td>\n",
       "      <td>1.7273</td>\n",
       "      <td>0.0000</td>\n",
       "      <td>0.0909</td>\n",
       "      <td>0.0909</td>\n",
       "      <td>0.0000</td>\n",
       "      <td>0.0000</td>\n",
       "      <td>0.0909</td>\n",
       "      <td>0.0909</td>\n",
       "      <td>...</td>\n",
       "      <td>0</td>\n",
       "      <td>0</td>\n",
       "      <td>0</td>\n",
       "      <td>0</td>\n",
       "      <td>0</td>\n",
       "      <td>0</td>\n",
       "      <td>0</td>\n",
       "      <td>0</td>\n",
       "      <td>0</td>\n",
       "      <td>0</td>\n",
       "    </tr>\n",
       "    <tr>\n",
       "      <th>2</th>\n",
       "      <td>15.6510</td>\n",
       "      <td>5.9688</td>\n",
       "      <td>1.4531</td>\n",
       "      <td>0.0052</td>\n",
       "      <td>0.1146</td>\n",
       "      <td>0.0938</td>\n",
       "      <td>0.0104</td>\n",
       "      <td>0.0104</td>\n",
       "      <td>0.1927</td>\n",
       "      <td>0.2083</td>\n",
       "      <td>...</td>\n",
       "      <td>0</td>\n",
       "      <td>0</td>\n",
       "      <td>0</td>\n",
       "      <td>0</td>\n",
       "      <td>0</td>\n",
       "      <td>0</td>\n",
       "      <td>0</td>\n",
       "      <td>0</td>\n",
       "      <td>0</td>\n",
       "      <td>0</td>\n",
       "    </tr>\n",
       "    <tr>\n",
       "      <th>3</th>\n",
       "      <td>15.3430</td>\n",
       "      <td>6.0233</td>\n",
       "      <td>1.3605</td>\n",
       "      <td>0.1628</td>\n",
       "      <td>0.0872</td>\n",
       "      <td>0.0814</td>\n",
       "      <td>0.0058</td>\n",
       "      <td>0.0233</td>\n",
       "      <td>0.0465</td>\n",
       "      <td>0.0581</td>\n",
       "      <td>...</td>\n",
       "      <td>0</td>\n",
       "      <td>0</td>\n",
       "      <td>0</td>\n",
       "      <td>0</td>\n",
       "      <td>0</td>\n",
       "      <td>0</td>\n",
       "      <td>0</td>\n",
       "      <td>0</td>\n",
       "      <td>0</td>\n",
       "      <td>0</td>\n",
       "    </tr>\n",
       "    <tr>\n",
       "      <th>4</th>\n",
       "      <td>13.7838</td>\n",
       "      <td>6.0270</td>\n",
       "      <td>1.5203</td>\n",
       "      <td>0.0000</td>\n",
       "      <td>0.0743</td>\n",
       "      <td>0.0676</td>\n",
       "      <td>0.0000</td>\n",
       "      <td>0.0000</td>\n",
       "      <td>0.0270</td>\n",
       "      <td>0.0405</td>\n",
       "      <td>...</td>\n",
       "      <td>0</td>\n",
       "      <td>0</td>\n",
       "      <td>0</td>\n",
       "      <td>0</td>\n",
       "      <td>0</td>\n",
       "      <td>0</td>\n",
       "      <td>0</td>\n",
       "      <td>0</td>\n",
       "      <td>0</td>\n",
       "      <td>0</td>\n",
       "    </tr>\n",
       "  </tbody>\n",
       "</table>\n",
       "<p>5 rows × 643 columns</p>\n",
       "</div>"
      ],
      "text/plain": [
       "   tq_db11_mean  tq_db12_mean  tq_db13_mean  tq_db14_mean  tq_dt1_mean  \\\n",
       "0       14.6561        5.8498        1.4466        0.0079       0.1502   \n",
       "1       16.4545       12.6364        1.7273        0.0000       0.0909   \n",
       "2       15.6510        5.9688        1.4531        0.0052       0.1146   \n",
       "3       15.3430        6.0233        1.3605        0.1628       0.0872   \n",
       "4       13.7838        6.0270        1.5203        0.0000       0.0743   \n",
       "\n",
       "   tq_dt2_mean  tq_dt3_mean  tq_dt4_mean  tq_db15_mean  tq_db16_mean  ...  \\\n",
       "0       0.1146       0.0079       0.0040        0.0514        0.0593  ...   \n",
       "1       0.0909       0.0000       0.0000        0.0909        0.0909  ...   \n",
       "2       0.0938       0.0104       0.0104        0.1927        0.2083  ...   \n",
       "3       0.0814       0.0058       0.0233        0.0465        0.0581  ...   \n",
       "4       0.0676       0.0000       0.0000        0.0270        0.0405  ...   \n",
       "\n",
       "   a_v7_8__97_431  a_v7_8__97_46  a_v7_8__97_647  a_v7_8__97_770  \\\n",
       "0               0              0               0               0   \n",
       "1               0              0               0               0   \n",
       "2               0              0               0               0   \n",
       "3               0              0               0               0   \n",
       "4               0              0               0               0   \n",
       "\n",
       "   a_v7_8__97_875  a_v7_8__97_909  a_v7_8__99_37  a_v7_8__99_995  \\\n",
       "0               0               0              0               0   \n",
       "1               0               0              0               0   \n",
       "2               0               0              0               0   \n",
       "3               0               0              0               0   \n",
       "4               0               0              0               0   \n",
       "\n",
       "   a_v7_8__99_996  a_v7_8_other  \n",
       "0               0             0  \n",
       "1               0             0  \n",
       "2               0             0  \n",
       "3               0             0  \n",
       "4               0             0  \n",
       "\n",
       "[5 rows x 643 columns]"
      ]
     },
     "execution_count": 20,
     "metadata": {},
     "output_type": "execute_result"
    }
   ],
   "source": [
    "df_all.head()"
   ]
  },
  {
   "cell_type": "markdown",
   "metadata": {
    "colab_type": "text",
    "id": "FibcdF2RpwWU"
   },
   "source": [
    "## Defining variables and save clean data"
   ]
  },
  {
   "cell_type": "code",
   "execution_count": 21,
   "metadata": {
    "colab": {},
    "colab_type": "code",
    "id": "NdDRkd7RpwWU"
   },
   "outputs": [],
   "source": [
    "# Defining category variables\n",
    "vars_cat = ('a_v1_', 'a_v2_', 'a_v3_', 'a_v4_', 'a_v5_','a_v7_8_')\n",
    "vars_cat = [col for col in df_all.columns if col.startswith(vars_cat)]\n",
    "\n",
    "# Defining target variables \n",
    "vars_target = ['tq_dt1_mean','tq_dt2_mean','tq_dt3_mean','tq_dt4_mean','tq_dt1_std','tq_dt2_std','tq_dt3_std','tq_dt4_std']\n"
   ]
  },
  {
   "cell_type": "markdown",
   "metadata": {
    "colab_type": "text",
    "id": "JEfz6n7OpwWW"
   },
   "source": [
    "### Save"
   ]
  },
  {
   "cell_type": "code",
   "execution_count": 22,
   "metadata": {
    "colab": {},
    "colab_type": "code",
    "id": "p7jsl77-pwWX"
   },
   "outputs": [],
   "source": [
    "# update df_all in dict_\n",
    "dict_['df_all'] = df_all\n",
    "\n",
    "# Target variables \n",
    "dict_['vars_target'] = vars_target\n",
    "\n",
    "# Category variables\n",
    "dict_['vars_cat'] = vars_cat\n",
    "\n",
    "# Histogram variables \n",
    "dict_['vars_hist'] = vars_hist\n",
    "\n",
    "# Numeric variables \n",
    "dict_['vars_numeric'] = vars_numeric + ['tq_v3','a_v6', 'a_v9', 'a_v10', 'a_v11', 'a_v12']\n",
    "\n",
    "fname = dirPData + '02_df_all.pickle'\n",
    "with open(fname, 'wb') as f:\n",
    "    pickle.dump(dict_, f)\n",
    "\n",
    "del dict_, fname"
   ]
  }
 ],
 "metadata": {
  "colab": {
   "name": "02_DataManipulation.ipynb",
   "provenance": [],
   "version": "0.3.2"
  },
  "kernelspec": {
   "display_name": "Python 3",
   "language": "python",
   "name": "python3"
  },
  "language_info": {
   "codemirror_mode": {
    "name": "ipython",
    "version": 3
   },
   "file_extension": ".py",
   "mimetype": "text/x-python",
   "name": "python",
   "nbconvert_exporter": "python",
   "pygments_lexer": "ipython3",
   "version": "3.7.3"
  }
 },
 "nbformat": 4,
 "nbformat_minor": 1
}
