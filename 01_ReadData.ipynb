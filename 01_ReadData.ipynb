{
 "cells": [
  {
   "cell_type": "markdown",
   "metadata": {},
   "source": [
    "Note: All code in script is sourced from various internet sources, from mentor Tomasz Popiel and from Alan Chalk at Sabre Insurance."
   ]
  },
  {
   "cell_type": "markdown",
   "metadata": {},
   "source": [
    "## Read the raw data\n",
    "\n",
    "Contents:\n",
    " - Start_: import modules, set directories\n",
    " - Read raw data\n",
    " - Save data '01_df_all.pickle'  \n",
    " \n",
    "Notes:\n"
   ]
  },
  {
   "cell_type": "markdown",
   "metadata": {},
   "source": [
    "### Start_:"
   ]
  },
  {
   "cell_type": "markdown",
   "metadata": {},
   "source": [
    "Import modules"
   ]
  },
  {
   "cell_type": "code",
   "execution_count": 1,
   "metadata": {},
   "outputs": [],
   "source": [
    "import os\n",
    "import pickle\n",
    "\n",
    "import pandas as pd"
   ]
  },
  {
   "cell_type": "markdown",
   "metadata": {},
   "source": [
    "Set directories"
   ]
  },
  {
   "cell_type": "code",
   "execution_count": 2,
   "metadata": {},
   "outputs": [
    {
     "name": "stdout",
     "output_type": "stream",
     "text": [
      "/Users/hujuiting/Desktop/QM-BA/GROUP PROJECT/PCode\n"
     ]
    }
   ],
   "source": [
    "print(os.getcwd())\n",
    "\n",
    "dirRawData = \"../RawData/\"\n",
    "dirPData = \"../PData/\"\n",
    "dirPOutput = \"../POutput/\""
   ]
  },
  {
   "cell_type": "markdown",
   "metadata": {},
   "source": [
    "### Read raw data"
   ]
  },
  {
   "cell_type": "code",
   "execution_count": 3,
   "metadata": {},
   "outputs": [
    {
     "data": {
      "text/plain": [
       "(65340, 347)"
      ]
     },
     "execution_count": 3,
     "metadata": {},
     "output_type": "execute_result"
    }
   ],
   "source": [
    "df_all = pd.read_csv(dirRawData + \"raw data.csv\",\n",
    "                     skipinitialspace=True)\n",
    "\n",
    "df_all.shape # (65,340, 347)"
   ]
  },
  {
   "cell_type": "code",
   "execution_count": 4,
   "metadata": {},
   "outputs": [
    {
     "data": {
      "text/html": [
       "<div>\n",
       "<style scoped>\n",
       "    .dataframe tbody tr th:only-of-type {\n",
       "        vertical-align: middle;\n",
       "    }\n",
       "\n",
       "    .dataframe tbody tr th {\n",
       "        vertical-align: top;\n",
       "    }\n",
       "\n",
       "    .dataframe thead th {\n",
       "        text-align: right;\n",
       "    }\n",
       "</style>\n",
       "<table border=\"1\" class=\"dataframe\">\n",
       "  <thead>\n",
       "    <tr style=\"text-align: right;\">\n",
       "      <th></th>\n",
       "      <th>tq_db11_mean</th>\n",
       "      <th>tq_db12_mean</th>\n",
       "      <th>tq_db13_mean</th>\n",
       "      <th>tq_db14_mean</th>\n",
       "      <th>tq_dt1_mean</th>\n",
       "      <th>tq_dt2_mean</th>\n",
       "      <th>tq_dt3_mean</th>\n",
       "      <th>tq_dt4_mean</th>\n",
       "      <th>tq_db15_mean</th>\n",
       "      <th>tq_db16_mean</th>\n",
       "      <th>...</th>\n",
       "      <th>a_v4</th>\n",
       "      <th>a_v5</th>\n",
       "      <th>a_v6</th>\n",
       "      <th>a_v7</th>\n",
       "      <th>a_v8</th>\n",
       "      <th>a_v9</th>\n",
       "      <th>a_v10</th>\n",
       "      <th>a_v11</th>\n",
       "      <th>a_v12</th>\n",
       "      <th>id</th>\n",
       "    </tr>\n",
       "  </thead>\n",
       "  <tbody>\n",
       "    <tr>\n",
       "      <th>0</th>\n",
       "      <td>14.6561</td>\n",
       "      <td>5.8498</td>\n",
       "      <td>1.4466</td>\n",
       "      <td>0.0079</td>\n",
       "      <td>0.1502</td>\n",
       "      <td>0.1146</td>\n",
       "      <td>0.0079</td>\n",
       "      <td>0.0040</td>\n",
       "      <td>0.0514</td>\n",
       "      <td>0.0593</td>\n",
       "      <td>...</td>\n",
       "      <td>C</td>\n",
       "      <td>C</td>\n",
       "      <td>2.0</td>\n",
       "      <td>137</td>\n",
       "      <td>970</td>\n",
       "      <td>13.0</td>\n",
       "      <td>12.0</td>\n",
       "      <td>9.0</td>\n",
       "      <td>4.0</td>\n",
       "      <td>1</td>\n",
       "    </tr>\n",
       "    <tr>\n",
       "      <th>1</th>\n",
       "      <td>16.4545</td>\n",
       "      <td>12.6364</td>\n",
       "      <td>1.7273</td>\n",
       "      <td>0.0000</td>\n",
       "      <td>0.0909</td>\n",
       "      <td>0.0909</td>\n",
       "      <td>0.0000</td>\n",
       "      <td>0.0000</td>\n",
       "      <td>0.0909</td>\n",
       "      <td>0.0909</td>\n",
       "      <td>...</td>\n",
       "      <td>C</td>\n",
       "      <td>C</td>\n",
       "      <td>5.0</td>\n",
       "      <td>141</td>\n",
       "      <td>196</td>\n",
       "      <td>9.0</td>\n",
       "      <td>15.0</td>\n",
       "      <td>12.0</td>\n",
       "      <td>9.0</td>\n",
       "      <td>2</td>\n",
       "    </tr>\n",
       "    <tr>\n",
       "      <th>2</th>\n",
       "      <td>15.6510</td>\n",
       "      <td>5.9688</td>\n",
       "      <td>1.4531</td>\n",
       "      <td>0.0052</td>\n",
       "      <td>0.1146</td>\n",
       "      <td>0.0938</td>\n",
       "      <td>0.0104</td>\n",
       "      <td>0.0104</td>\n",
       "      <td>0.1927</td>\n",
       "      <td>0.2083</td>\n",
       "      <td>...</td>\n",
       "      <td>C</td>\n",
       "      <td>C</td>\n",
       "      <td>2.0</td>\n",
       "      <td>17</td>\n",
       "      <td>1047</td>\n",
       "      <td>11.0</td>\n",
       "      <td>NaN</td>\n",
       "      <td>15.0</td>\n",
       "      <td>NaN</td>\n",
       "      <td>3</td>\n",
       "    </tr>\n",
       "    <tr>\n",
       "      <th>3</th>\n",
       "      <td>15.3430</td>\n",
       "      <td>6.0233</td>\n",
       "      <td>1.3605</td>\n",
       "      <td>0.1628</td>\n",
       "      <td>0.0872</td>\n",
       "      <td>0.0814</td>\n",
       "      <td>0.0058</td>\n",
       "      <td>0.0233</td>\n",
       "      <td>0.0465</td>\n",
       "      <td>0.0581</td>\n",
       "      <td>...</td>\n",
       "      <td>X</td>\n",
       "      <td>C</td>\n",
       "      <td>3.0</td>\n",
       "      <td>36</td>\n",
       "      <td>752</td>\n",
       "      <td>17.0</td>\n",
       "      <td>12.0</td>\n",
       "      <td>NaN</td>\n",
       "      <td>18.0</td>\n",
       "      <td>4</td>\n",
       "    </tr>\n",
       "    <tr>\n",
       "      <th>4</th>\n",
       "      <td>13.7838</td>\n",
       "      <td>6.0270</td>\n",
       "      <td>1.5203</td>\n",
       "      <td>0.0000</td>\n",
       "      <td>0.0743</td>\n",
       "      <td>0.0676</td>\n",
       "      <td>0.0000</td>\n",
       "      <td>0.0000</td>\n",
       "      <td>0.0270</td>\n",
       "      <td>0.0405</td>\n",
       "      <td>...</td>\n",
       "      <td>C</td>\n",
       "      <td>D</td>\n",
       "      <td>5.0</td>\n",
       "      <td>55</td>\n",
       "      <td>112</td>\n",
       "      <td>3.0</td>\n",
       "      <td>12.0</td>\n",
       "      <td>1.0</td>\n",
       "      <td>4.0</td>\n",
       "      <td>5</td>\n",
       "    </tr>\n",
       "  </tbody>\n",
       "</table>\n",
       "<p>5 rows × 347 columns</p>\n",
       "</div>"
      ],
      "text/plain": [
       "   tq_db11_mean  tq_db12_mean  tq_db13_mean  tq_db14_mean  tq_dt1_mean  \\\n",
       "0       14.6561        5.8498        1.4466        0.0079       0.1502   \n",
       "1       16.4545       12.6364        1.7273        0.0000       0.0909   \n",
       "2       15.6510        5.9688        1.4531        0.0052       0.1146   \n",
       "3       15.3430        6.0233        1.3605        0.1628       0.0872   \n",
       "4       13.7838        6.0270        1.5203        0.0000       0.0743   \n",
       "\n",
       "   tq_dt2_mean  tq_dt3_mean  tq_dt4_mean  tq_db15_mean  tq_db16_mean  ...  \\\n",
       "0       0.1146       0.0079       0.0040        0.0514        0.0593  ...   \n",
       "1       0.0909       0.0000       0.0000        0.0909        0.0909  ...   \n",
       "2       0.0938       0.0104       0.0104        0.1927        0.2083  ...   \n",
       "3       0.0814       0.0058       0.0233        0.0465        0.0581  ...   \n",
       "4       0.0676       0.0000       0.0000        0.0270        0.0405  ...   \n",
       "\n",
       "   a_v4  a_v5  a_v6  a_v7  a_v8  a_v9  a_v10  a_v11  a_v12  id  \n",
       "0     C     C   2.0   137   970  13.0   12.0    9.0    4.0   1  \n",
       "1     C     C   5.0   141   196   9.0   15.0   12.0    9.0   2  \n",
       "2     C     C   2.0    17  1047  11.0    NaN   15.0    NaN   3  \n",
       "3     X     C   3.0    36   752  17.0   12.0    NaN   18.0   4  \n",
       "4     C     D   5.0    55   112   3.0   12.0    1.0    4.0   5  \n",
       "\n",
       "[5 rows x 347 columns]"
      ]
     },
     "execution_count": 4,
     "metadata": {},
     "output_type": "execute_result"
    }
   ],
   "source": [
    "df_all.head()"
   ]
  },
  {
   "cell_type": "markdown",
   "metadata": {},
   "source": [
    "### Save data"
   ]
  },
  {
   "cell_type": "code",
   "execution_count": 5,
   "metadata": {},
   "outputs": [],
   "source": [
    "dict_ = {'df_all': df_all}\n",
    "fname = dirPData + '01_df_all.pickle'\n",
    "with open(fname, 'wb') as f:\n",
    "    pickle.dump(dict_, f)\n",
    "\n",
    "del dict_, fname"
   ]
  }
 ],
 "metadata": {
  "kernelspec": {
   "display_name": "Python 3",
   "language": "python",
   "name": "python3"
  },
  "language_info": {
   "codemirror_mode": {
    "name": "ipython",
    "version": 3
   },
   "file_extension": ".py",
   "mimetype": "text/x-python",
   "name": "python",
   "nbconvert_exporter": "python",
   "pygments_lexer": "ipython3",
   "version": "3.7.3"
  }
 },
 "nbformat": 4,
 "nbformat_minor": 2
}
