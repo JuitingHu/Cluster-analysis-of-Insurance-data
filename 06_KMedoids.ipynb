{
 "cells": [
  {
   "cell_type": "markdown",
   "metadata": {
    "colab_type": "text",
    "id": "LO5K3RxBiLbc"
   },
   "source": [
    "Note: All code in script is sourced from various internet sources, from mentor Tomasz Popiel and from Alan Chalk at Sabre Insurance."
   ]
  },
  {
   "cell_type": "markdown",
   "metadata": {
    "colab_type": "text",
    "id": "aJqivT0viLbk"
   },
   "source": [
    "## K-Medoids\n",
    "\n",
    "\n",
    " - Start_: import modules, set directories, load data ('03_distancematrix_20%_exclude_target.hkl') \n",
    " \n",
    "- Determine number of clusters \n",
    "  - Silhouette Coefficient \n",
    "- K-Medoids\n",
    "  - NPASS \n",
    "- Variable 'tq_v3' investigation \n",
    "- Target variables analysis\n",
    "- t-SNE visualisation \n",
    "\n"
   ]
  },
  {
   "cell_type": "markdown",
   "metadata": {
    "colab_type": "text",
    "id": "duB8dFTdiLbp"
   },
   "source": [
    "### Start\n"
   ]
  },
  {
   "cell_type": "markdown",
   "metadata": {
    "colab_type": "text",
    "id": "lZyt2nt8iLbw"
   },
   "source": [
    "Import modules"
   ]
  },
  {
   "cell_type": "code",
   "execution_count": 0,
   "metadata": {
    "colab": {},
    "colab_type": "code",
    "id": "5tQcLscDiLb0"
   },
   "outputs": [],
   "source": [
    "import os\n",
    "import hickle as hkl\n",
    "import gc\n",
    "\n",
    "import pandas as pd\n",
    "import numpy as np\n",
    "\n",
    "from scipy.spatial.distance import squareform\n",
    "\n",
    "import numpy as np \n",
    "from Bio.Cluster import kmedoids\n",
    "from sklearn import metrics \n",
    "\n",
    "from Bio.Cluster import kmedoids \n",
    "\n",
    "import collections, numpy \n",
    "\n",
    "import seaborn\n",
    "import matplotlib.pyplot as plt\n",
    "\n",
    "from sklearn.manifold import TSNE\n",
    "\n",
    "import seaborn as sns\n",
    "import matplotlib.pyplot as plt"
   ]
  },
  {
   "cell_type": "markdown",
   "metadata": {
    "colab_type": "text",
    "id": "cVj47Y0CiLcF"
   },
   "source": [
    "Set directories"
   ]
  },
  {
   "cell_type": "code",
   "execution_count": 0,
   "metadata": {
    "colab": {},
    "colab_type": "code",
    "id": "olUmGXL4iLcM",
    "outputId": "22938335-6c8d-4101-c521-a23d640f9ae3"
   },
   "outputs": [
    {
     "name": "stdout",
     "output_type": "stream",
     "text": [
      "/Users/koonkarnarthasarnprasit/Desktop/Sabre_QMUL_2019_cluster-master/PCode\n"
     ]
    }
   ],
   "source": [
    "print(os.getcwd())\n",
    "\n",
    "dirRawData = \"../RawData/\"\n",
    "dirPData = \"../PData/\"\n",
    "dirPOutput = \"../POutput/\""
   ]
  },
  {
   "cell_type": "markdown",
   "metadata": {
    "colab_type": "text",
    "id": "geY2X5bviLcY"
   },
   "source": [
    "Load data"
   ]
  },
  {
   "cell_type": "code",
   "execution_count": 0,
   "metadata": {
    "colab": {},
    "colab_type": "code",
    "id": "n9FN1g5TiLca"
   },
   "outputs": [],
   "source": [
    "fname = dirPData + '03_distancematrix_20%_exclude_target.hkl' \n",
    "with open(fname, 'r') as f:\n",
    "    dict_ = hkl.load(f)\n",
    "\n",
    "\n",
    "# %% Load data\n",
    "\n",
    "D_3 = dict_['D_3']\n",
    "df_all_2 = dict_['df_all_2'] # 20% of non scaled data \n",
    "df_all = dict_['df_all'] # 20% of scaled data\n",
    "\n",
    "del fname"
   ]
  },
  {
   "cell_type": "markdown",
   "metadata": {
    "colab_type": "text",
    "id": "gVzANZ2XiLct"
   },
   "source": [
    "### K-Medoids"
   ]
  },
  {
   "cell_type": "markdown",
   "metadata": {
    "colab_type": "text",
    "id": "NC9e8SjkiLcz"
   },
   "source": [
    "#### Determining the number of clusters"
   ]
  },
  {
   "cell_type": "code",
   "execution_count": 0,
   "metadata": {
    "colab": {},
    "colab_type": "code",
    "id": "DCGC8NrKiLc6",
    "outputId": "6076bf4c-a2b7-403d-b34e-8c3e9bde2ec7"
   },
   "outputs": [
    {
     "data": {
      "text/plain": [
       "73"
      ]
     },
     "execution_count": 4,
     "metadata": {
      "tags": []
     },
     "output_type": "execute_result"
    }
   ],
   "source": [
    "D_3_square = squareform(D_3)\n",
    "del D_3\n",
    "gc.collect()"
   ]
  },
  {
   "cell_type": "code",
   "execution_count": 0,
   "metadata": {
    "colab": {},
    "colab_type": "code",
    "id": "z8BiG8IFiLdD",
    "outputId": "db3558a5-c4da-4622-e3b9-5e4e402f9382"
   },
   "outputs": [
    {
     "name": "stdout",
     "output_type": "stream",
     "text": [
      "(13039, 13039)\n"
     ]
    }
   ],
   "source": [
    "print(D_3_square.shape)"
   ]
  },
  {
   "cell_type": "markdown",
   "metadata": {
    "colab_type": "text",
    "id": "2ZQ0zhbiiLdI"
   },
   "source": [
    "Silhouette Coefficient"
   ]
  },
  {
   "cell_type": "markdown",
   "metadata": {
    "colab_type": "text",
    "id": "lD5dL4yviLdJ"
   },
   "source": [
    "Starting with wide search "
   ]
  },
  {
   "cell_type": "code",
   "execution_count": 0,
   "metadata": {
    "colab": {},
    "colab_type": "code",
    "id": "cGnRAnxfiLdK",
    "outputId": "52a881a1-1365-46cf-d91c-5d5b35b92f69"
   },
   "outputs": [
    {
     "name": "stdout",
     "output_type": "stream",
     "text": [
      "2 cluster 0.22399877482621114\n",
      "7 cluster 0.13319524879244007\n",
      "12 cluster 0.11345555930920861\n",
      "17 cluster 0.10828427091752195\n",
      "22 cluster 0.10653489284207042\n",
      "27 cluster 0.09207138600404263\n",
      "32 cluster 0.10299341483774976\n",
      "37 cluster 0.07897355098981532\n",
      "42 cluster 0.08894543294630583\n",
      "47 cluster 0.07517464393052209\n",
      "52 cluster 0.08258249238864504\n",
      "57 cluster 0.07485705906866237\n",
      "62 cluster 0.06606238211377459\n",
      "67 cluster 0.07732233136545294\n",
      "72 cluster 0.0639814760503246\n",
      "77 cluster 0.06993411925166415\n",
      "82 cluster 0.06493454314135501\n",
      "87 cluster 0.052619969069347176\n",
      "92 cluster 0.07710416972655423\n",
      "97 cluster 0.05803749743420769\n",
      "102 cluster 0.05242806697705165\n",
      "107 cluster 0.05431514629457332\n",
      "112 cluster 0.04256383270867629\n",
      "117 cluster 0.05127580608979673\n",
      "122 cluster 0.049962436587769846\n",
      "127 cluster 0.058415953157803666\n",
      "132 cluster 0.054003664658461806\n",
      "137 cluster 0.0482911291604544\n",
      "142 cluster 0.052119075965952694\n",
      "147 cluster 0.05719409501895467\n",
      "152 cluster 0.04189026917298489\n",
      "157 cluster 0.05441606315545197\n",
      "162 cluster 0.038144331192218\n",
      "167 cluster 0.03835251997091571\n",
      "172 cluster 0.05675096532725841\n",
      "177 cluster 0.055484659867852205\n",
      "182 cluster 0.036049518091298874\n",
      "187 cluster 0.04924593940233179\n",
      "192 cluster 0.049573160180020046\n",
      "197 cluster 0.04494450225871294\n"
     ]
    }
   ],
   "source": [
    "clusters = 2 + 5 * np.arange(40) \n",
    "means = []\n",
    "\n",
    "for i in clusters:\n",
    "\n",
    "    clusterid, error, found = kmedoids(D_3_square, nclusters=i, npass=10, initialid=None)\n",
    "    \n",
    "    \n",
    "    mean = metrics.silhouette_score(D_3_square, clusterid, metric='precomputed')\n",
    "    print(i, \"cluster\", mean)"
   ]
  },
  {
   "cell_type": "markdown",
   "metadata": {
    "colab_type": "text",
    "id": "5TUMAxWYiLdQ"
   },
   "source": [
    "As cluster size increase, the score is lower. So a more focus number is computed."
   ]
  },
  {
   "cell_type": "code",
   "execution_count": 0,
   "metadata": {
    "colab": {},
    "colab_type": "code",
    "id": "ZYMe6Vl2iLdR",
    "outputId": "405208b4-8ca8-4be9-98ba-a307062e41ac"
   },
   "outputs": [
    {
     "name": "stdout",
     "output_type": "stream",
     "text": [
      "2 cluster 0.22399877482621114\n",
      "3 cluster 0.20011354320561223\n",
      "4 cluster 0.17327202807866113\n",
      "5 cluster 0.16279431684399331\n",
      "6 cluster 0.14136539792056324\n",
      "7 cluster 0.13451135259101876\n",
      "8 cluster 0.13349736659258715\n",
      "9 cluster 0.14428605959352023\n",
      "10 cluster 0.1213793132058401\n"
     ]
    }
   ],
   "source": [
    "for i in [2,3,4,5,6,7,8,9,10]:\n",
    "\n",
    "    clusterid, error, found = kmedoids(D_3_square, nclusters=i, npass=10, initialid=None)\n",
    "    \n",
    "    \n",
    "    mean = metrics.silhouette_score(D_3_square, clusterid, metric='precomputed')\n",
    "    print(i, \"cluster\", mean)"
   ]
  },
  {
   "cell_type": "markdown",
   "metadata": {
    "colab_type": "text",
    "id": "h7w9kRZPiLe_"
   },
   "source": [
    "4 clusters provide the highest silhouette score."
   ]
  },
  {
   "cell_type": "markdown",
   "metadata": {
    "colab_type": "text",
    "id": "ZR82VJn0iLfA"
   },
   "source": [
    "#### Building the K-Medoids model"
   ]
  },
  {
   "cell_type": "markdown",
   "metadata": {
    "colab_type": "text",
    "id": "ZNheEMszmHOC"
   },
   "source": [
    "NPASS"
   ]
  },
  {
   "cell_type": "code",
   "execution_count": 0,
   "metadata": {
    "colab": {},
    "colab_type": "code",
    "id": "gDjnY2-ziLfC",
    "outputId": "c4cdffde-05b3-4382-c710-e309f200d2fd"
   },
   "outputs": [
    {
     "name": "stdout",
     "output_type": "stream",
     "text": [
      "5 iteration 111950.1490217519 2\n",
      "10 iteration 115602.51464952229 1\n",
      "20 iteration 114716.60297535913 1\n",
      "30 iteration 114394.82833739113 1\n",
      "40 iteration 114394.82833739113 1\n",
      "50 iteration 113531.6963995392 1\n",
      "90 iteration 111950.1490217519 1\n",
      "100 iteration 111950.1490217519 2\n",
      "200 iteration 111950.1490217519 2\n"
     ]
    }
   ],
   "source": [
    "for i in [5,10,20,30,40,50,90,100,200]:\n",
    "    \n",
    "    clusterid, error, found = kmedoids(D_3_square, nclusters=4, npass=i, initialid=None) # choosing 4 clusters\n",
    "    \n",
    "    print(i, \"iteration\", error, found)"
   ]
  },
  {
   "cell_type": "markdown",
   "metadata": {
    "colab_type": "text",
    "id": "UOgmm43RmF4_"
   },
   "source": [
    "5, 90, 100, 200 has the lowest error. However, 5 is too low and above 90 does not have any changes. "
   ]
  },
  {
   "cell_type": "code",
   "execution_count": 0,
   "metadata": {
    "colab": {},
    "colab_type": "code",
    "id": "Xff8xKHqiLfI"
   },
   "outputs": [],
   "source": [
    "clusterid, error, found = kmedoids(D_3_square, nclusters=4, npass=90, initialid=None) # specify chosen npass here"
   ]
  },
  {
   "cell_type": "code",
   "execution_count": 0,
   "metadata": {
    "colab": {},
    "colab_type": "code",
    "id": "WZdTzFsPiLfL",
    "outputId": "7839a9d8-41ec-4d8c-c113-a3b8c231c00e"
   },
   "outputs": [
    {
     "name": "stdout",
     "output_type": "stream",
     "text": [
      "[8208 8208 3366 ... 8208 5637 5637]\n"
     ]
    }
   ],
   "source": [
    "print(clusterid)"
   ]
  },
  {
   "cell_type": "code",
   "execution_count": 0,
   "metadata": {
    "colab": {},
    "colab_type": "code",
    "id": "BIaHhgdXiLfO",
    "outputId": "cea531a8-5629-4ab3-99e4-14c6001f3119"
   },
   "outputs": [
    {
     "data": {
      "text/plain": [
       "13039"
      ]
     },
     "execution_count": 11,
     "metadata": {
      "tags": []
     },
     "output_type": "execute_result"
    }
   ],
   "source": [
    "len(clusterid)"
   ]
  },
  {
   "cell_type": "code",
   "execution_count": 0,
   "metadata": {
    "colab": {},
    "colab_type": "code",
    "id": "QTH_N4-BiLfT",
    "outputId": "ff808920-97ca-4550-d192-a817c4c78b64"
   },
   "outputs": [
    {
     "name": "stdout",
     "output_type": "stream",
     "text": [
      "111950.1490217519\n"
     ]
    }
   ],
   "source": [
    "print(error)"
   ]
  },
  {
   "cell_type": "code",
   "execution_count": 0,
   "metadata": {
    "colab": {},
    "colab_type": "code",
    "id": "he7WhKnmiLfZ",
    "outputId": "9c53dbbf-246f-4a84-c4a0-035a6b630818"
   },
   "outputs": [
    {
     "data": {
      "text/plain": [
       "Counter({8208: 3689, 3366: 3508, 8947: 2642, 5637: 3200})"
      ]
     },
     "execution_count": 13,
     "metadata": {
      "tags": []
     },
     "output_type": "execute_result"
    }
   ],
   "source": [
    "# count number of data points in each cluster\n",
    "# will need this for group report\n",
    "collections.Counter(clusterid)"
   ]
  },
  {
   "cell_type": "markdown",
   "metadata": {
    "colab_type": "text",
    "id": "u3bhjN_On_kt"
   },
   "source": [
    "## Variable 'tq_v3' investigation "
   ]
  },
  {
   "cell_type": "markdown",
   "metadata": {
    "colab_type": "text",
    "id": "v9awDIVGiLfc"
   },
   "source": [
    "Make dataframe 'info' of each data entry ID, 'tq_v3', target varaibles, cluster label"
   ]
  },
  {
   "cell_type": "code",
   "execution_count": 0,
   "metadata": {
    "colab": {},
    "colab_type": "code",
    "id": "uXiqyujMiLfd"
   },
   "outputs": [],
   "source": [
    "clustering_labels = pd.DataFrame(clusterid, columns=['cluster'])"
   ]
  },
  {
   "cell_type": "code",
   "execution_count": 0,
   "metadata": {
    "colab": {},
    "colab_type": "code",
    "id": "Ar8Ubbc3iLfg"
   },
   "outputs": [],
   "source": [
    "datainfo = pd.DataFrame(df_all_2[['id','tq_v3','tq_dt1_mean','tq_dt2_mean','tq_dt3_mean','tq_dt4_mean','tq_dt1_std','tq_dt2_std','tq_dt3_std','tq_dt4_std']])"
   ]
  },
  {
   "cell_type": "markdown",
   "metadata": {
    "colab_type": "text",
    "id": "9mUpSjypiLfo"
   },
   "source": [
    "using df_all_2 because this is the non-scaled dataset"
   ]
  },
  {
   "cell_type": "code",
   "execution_count": 0,
   "metadata": {
    "colab": {},
    "colab_type": "code",
    "id": "TPNFrLm0iLfq"
   },
   "outputs": [],
   "source": [
    "clustering_labels.reset_index(drop=True, inplace=True)\n",
    "datainfo.reset_index(drop=True, inplace=True)"
   ]
  },
  {
   "cell_type": "code",
   "execution_count": 0,
   "metadata": {
    "colab": {},
    "colab_type": "code",
    "id": "_LDDdPspiLfv"
   },
   "outputs": [],
   "source": [
    "info = pd.concat([datainfo,clustering_labels], axis = 1)"
   ]
  },
  {
   "cell_type": "code",
   "execution_count": 0,
   "metadata": {
    "colab": {},
    "colab_type": "code",
    "id": "wgFZ4hCOiLfy",
    "outputId": "097b4cb6-8312-475a-b9c8-50e7302099c4"
   },
   "outputs": [
    {
     "data": {
      "text/html": [
       "<div>\n",
       "<style scoped>\n",
       "    .dataframe tbody tr th:only-of-type {\n",
       "        vertical-align: middle;\n",
       "    }\n",
       "\n",
       "    .dataframe tbody tr th {\n",
       "        vertical-align: top;\n",
       "    }\n",
       "\n",
       "    .dataframe thead th {\n",
       "        text-align: right;\n",
       "    }\n",
       "</style>\n",
       "<table border=\"1\" class=\"dataframe\">\n",
       "  <thead>\n",
       "    <tr style=\"text-align: right;\">\n",
       "      <th></th>\n",
       "      <th>id</th>\n",
       "      <th>tq_v3</th>\n",
       "      <th>tq_dt1_mean</th>\n",
       "      <th>tq_dt2_mean</th>\n",
       "      <th>tq_dt3_mean</th>\n",
       "      <th>tq_dt4_mean</th>\n",
       "      <th>tq_dt1_std</th>\n",
       "      <th>tq_dt2_std</th>\n",
       "      <th>tq_dt3_std</th>\n",
       "      <th>tq_dt4_std</th>\n",
       "      <th>cluster</th>\n",
       "    </tr>\n",
       "  </thead>\n",
       "  <tbody>\n",
       "    <tr>\n",
       "      <th>0</th>\n",
       "      <td>12468</td>\n",
       "      <td>16</td>\n",
       "      <td>0.0984</td>\n",
       "      <td>0.0328</td>\n",
       "      <td>0.0</td>\n",
       "      <td>0.0164</td>\n",
       "      <td>0.3514</td>\n",
       "      <td>0.1796</td>\n",
       "      <td>0.0</td>\n",
       "      <td>0.128</td>\n",
       "      <td>8208</td>\n",
       "    </tr>\n",
       "    <tr>\n",
       "      <th>1</th>\n",
       "      <td>32442</td>\n",
       "      <td>4</td>\n",
       "      <td>0.0000</td>\n",
       "      <td>0.0000</td>\n",
       "      <td>0.0</td>\n",
       "      <td>0.0000</td>\n",
       "      <td>0.0000</td>\n",
       "      <td>0.0000</td>\n",
       "      <td>0.0</td>\n",
       "      <td>0.000</td>\n",
       "      <td>8208</td>\n",
       "    </tr>\n",
       "    <tr>\n",
       "      <th>2</th>\n",
       "      <td>26216</td>\n",
       "      <td>3</td>\n",
       "      <td>0.0000</td>\n",
       "      <td>0.0000</td>\n",
       "      <td>0.0</td>\n",
       "      <td>0.0000</td>\n",
       "      <td>0.0000</td>\n",
       "      <td>0.0000</td>\n",
       "      <td>0.0</td>\n",
       "      <td>0.000</td>\n",
       "      <td>3366</td>\n",
       "    </tr>\n",
       "    <tr>\n",
       "      <th>3</th>\n",
       "      <td>50550</td>\n",
       "      <td>1</td>\n",
       "      <td>0.0000</td>\n",
       "      <td>0.0000</td>\n",
       "      <td>0.0</td>\n",
       "      <td>0.0000</td>\n",
       "      <td>0.0000</td>\n",
       "      <td>0.0000</td>\n",
       "      <td>0.0</td>\n",
       "      <td>0.000</td>\n",
       "      <td>8947</td>\n",
       "    </tr>\n",
       "    <tr>\n",
       "      <th>4</th>\n",
       "      <td>45726</td>\n",
       "      <td>2</td>\n",
       "      <td>0.1250</td>\n",
       "      <td>0.0000</td>\n",
       "      <td>0.0</td>\n",
       "      <td>0.0000</td>\n",
       "      <td>0.3536</td>\n",
       "      <td>0.0000</td>\n",
       "      <td>0.0</td>\n",
       "      <td>0.000</td>\n",
       "      <td>8208</td>\n",
       "    </tr>\n",
       "  </tbody>\n",
       "</table>\n",
       "</div>"
      ],
      "text/plain": [
       "      id  tq_v3  tq_dt1_mean  tq_dt2_mean  tq_dt3_mean  tq_dt4_mean  \\\n",
       "0  12468     16       0.0984       0.0328          0.0       0.0164   \n",
       "1  32442      4       0.0000       0.0000          0.0       0.0000   \n",
       "2  26216      3       0.0000       0.0000          0.0       0.0000   \n",
       "3  50550      1       0.0000       0.0000          0.0       0.0000   \n",
       "4  45726      2       0.1250       0.0000          0.0       0.0000   \n",
       "\n",
       "   tq_dt1_std  tq_dt2_std  tq_dt3_std  tq_dt4_std  cluster  \n",
       "0      0.3514      0.1796         0.0       0.128     8208  \n",
       "1      0.0000      0.0000         0.0       0.000     8208  \n",
       "2      0.0000      0.0000         0.0       0.000     3366  \n",
       "3      0.0000      0.0000         0.0       0.000     8947  \n",
       "4      0.3536      0.0000         0.0       0.000     8208  "
      ]
     },
     "execution_count": 18,
     "metadata": {
      "tags": []
     },
     "output_type": "execute_result"
    }
   ],
   "source": [
    "info.head()"
   ]
  },
  {
   "cell_type": "markdown",
   "metadata": {
    "colab_type": "text",
    "id": "AnFcu9OGiLf_"
   },
   "source": [
    "To get summary statistics of the target variables for each cluster"
   ]
  },
  {
   "cell_type": "code",
   "execution_count": 0,
   "metadata": {
    "colab": {},
    "colab_type": "code",
    "id": "P1ufohp-iLgE",
    "outputId": "c613138d-2b5f-4810-e1e6-2e003dc59f03"
   },
   "outputs": [
    {
     "data": {
      "text/html": [
       "<div>\n",
       "<style scoped>\n",
       "    .dataframe tbody tr th:only-of-type {\n",
       "        vertical-align: middle;\n",
       "    }\n",
       "\n",
       "    .dataframe tbody tr th {\n",
       "        vertical-align: top;\n",
       "    }\n",
       "\n",
       "    .dataframe thead th {\n",
       "        text-align: right;\n",
       "    }\n",
       "</style>\n",
       "<table border=\"1\" class=\"dataframe\">\n",
       "  <thead>\n",
       "    <tr style=\"text-align: right;\">\n",
       "      <th></th>\n",
       "      <th>id</th>\n",
       "      <th>tq_v3</th>\n",
       "      <th>tq_dt1_mean</th>\n",
       "      <th>tq_dt2_mean</th>\n",
       "      <th>tq_dt3_mean</th>\n",
       "      <th>tq_dt4_mean</th>\n",
       "      <th>tq_dt1_std</th>\n",
       "      <th>tq_dt2_std</th>\n",
       "      <th>tq_dt3_std</th>\n",
       "      <th>tq_dt4_std</th>\n",
       "      <th>cluster</th>\n",
       "    </tr>\n",
       "  </thead>\n",
       "  <tbody>\n",
       "    <tr>\n",
       "      <th>count</th>\n",
       "      <td>3689.000000</td>\n",
       "      <td>3689.000000</td>\n",
       "      <td>3689.000000</td>\n",
       "      <td>3689.000000</td>\n",
       "      <td>3689.000000</td>\n",
       "      <td>3689.000000</td>\n",
       "      <td>3689.000000</td>\n",
       "      <td>3689.000000</td>\n",
       "      <td>3689.000000</td>\n",
       "      <td>3689.000000</td>\n",
       "      <td>3689.0</td>\n",
       "    </tr>\n",
       "    <tr>\n",
       "      <th>mean</th>\n",
       "      <td>32995.942261</td>\n",
       "      <td>21.821632</td>\n",
       "      <td>0.100250</td>\n",
       "      <td>0.068821</td>\n",
       "      <td>0.006522</td>\n",
       "      <td>0.010381</td>\n",
       "      <td>0.284257</td>\n",
       "      <td>0.224814</td>\n",
       "      <td>0.040310</td>\n",
       "      <td>0.056311</td>\n",
       "      <td>8208.0</td>\n",
       "    </tr>\n",
       "    <tr>\n",
       "      <th>std</th>\n",
       "      <td>18772.475137</td>\n",
       "      <td>26.661576</td>\n",
       "      <td>0.090875</td>\n",
       "      <td>0.076698</td>\n",
       "      <td>0.021460</td>\n",
       "      <td>0.027387</td>\n",
       "      <td>0.177595</td>\n",
       "      <td>0.166274</td>\n",
       "      <td>0.080967</td>\n",
       "      <td>0.087310</td>\n",
       "      <td>0.0</td>\n",
       "    </tr>\n",
       "    <tr>\n",
       "      <th>min</th>\n",
       "      <td>2.000000</td>\n",
       "      <td>1.000000</td>\n",
       "      <td>0.000000</td>\n",
       "      <td>0.000000</td>\n",
       "      <td>0.000000</td>\n",
       "      <td>0.000000</td>\n",
       "      <td>0.000000</td>\n",
       "      <td>0.000000</td>\n",
       "      <td>0.000000</td>\n",
       "      <td>0.000000</td>\n",
       "      <td>8208.0</td>\n",
       "    </tr>\n",
       "    <tr>\n",
       "      <th>25%</th>\n",
       "      <td>17090.000000</td>\n",
       "      <td>4.000000</td>\n",
       "      <td>0.041700</td>\n",
       "      <td>0.000000</td>\n",
       "      <td>0.000000</td>\n",
       "      <td>0.000000</td>\n",
       "      <td>0.204000</td>\n",
       "      <td>0.000000</td>\n",
       "      <td>0.000000</td>\n",
       "      <td>0.000000</td>\n",
       "      <td>8208.0</td>\n",
       "    </tr>\n",
       "    <tr>\n",
       "      <th>50%</th>\n",
       "      <td>32945.000000</td>\n",
       "      <td>11.000000</td>\n",
       "      <td>0.090900</td>\n",
       "      <td>0.055600</td>\n",
       "      <td>0.000000</td>\n",
       "      <td>0.000000</td>\n",
       "      <td>0.307800</td>\n",
       "      <td>0.242200</td>\n",
       "      <td>0.000000</td>\n",
       "      <td>0.000000</td>\n",
       "      <td>8208.0</td>\n",
       "    </tr>\n",
       "    <tr>\n",
       "      <th>75%</th>\n",
       "      <td>49279.000000</td>\n",
       "      <td>29.000000</td>\n",
       "      <td>0.137900</td>\n",
       "      <td>0.097200</td>\n",
       "      <td>0.004900</td>\n",
       "      <td>0.012400</td>\n",
       "      <td>0.385200</td>\n",
       "      <td>0.329900</td>\n",
       "      <td>0.070200</td>\n",
       "      <td>0.111500</td>\n",
       "      <td>8208.0</td>\n",
       "    </tr>\n",
       "    <tr>\n",
       "      <th>max</th>\n",
       "      <td>65268.000000</td>\n",
       "      <td>172.000000</td>\n",
       "      <td>1.000000</td>\n",
       "      <td>1.000000</td>\n",
       "      <td>0.600000</td>\n",
       "      <td>0.666700</td>\n",
       "      <td>1.732100</td>\n",
       "      <td>1.414200</td>\n",
       "      <td>1.341600</td>\n",
       "      <td>0.707100</td>\n",
       "      <td>8208.0</td>\n",
       "    </tr>\n",
       "  </tbody>\n",
       "</table>\n",
       "</div>"
      ],
      "text/plain": [
       "                 id        tq_v3  tq_dt1_mean  tq_dt2_mean  tq_dt3_mean  \\\n",
       "count   3689.000000  3689.000000  3689.000000  3689.000000  3689.000000   \n",
       "mean   32995.942261    21.821632     0.100250     0.068821     0.006522   \n",
       "std    18772.475137    26.661576     0.090875     0.076698     0.021460   \n",
       "min        2.000000     1.000000     0.000000     0.000000     0.000000   \n",
       "25%    17090.000000     4.000000     0.041700     0.000000     0.000000   \n",
       "50%    32945.000000    11.000000     0.090900     0.055600     0.000000   \n",
       "75%    49279.000000    29.000000     0.137900     0.097200     0.004900   \n",
       "max    65268.000000   172.000000     1.000000     1.000000     0.600000   \n",
       "\n",
       "       tq_dt4_mean   tq_dt1_std   tq_dt2_std   tq_dt3_std   tq_dt4_std  \\\n",
       "count  3689.000000  3689.000000  3689.000000  3689.000000  3689.000000   \n",
       "mean      0.010381     0.284257     0.224814     0.040310     0.056311   \n",
       "std       0.027387     0.177595     0.166274     0.080967     0.087310   \n",
       "min       0.000000     0.000000     0.000000     0.000000     0.000000   \n",
       "25%       0.000000     0.204000     0.000000     0.000000     0.000000   \n",
       "50%       0.000000     0.307800     0.242200     0.000000     0.000000   \n",
       "75%       0.012400     0.385200     0.329900     0.070200     0.111500   \n",
       "max       0.666700     1.732100     1.414200     1.341600     0.707100   \n",
       "\n",
       "       cluster  \n",
       "count   3689.0  \n",
       "mean    8208.0  \n",
       "std        0.0  \n",
       "min     8208.0  \n",
       "25%     8208.0  \n",
       "50%     8208.0  \n",
       "75%     8208.0  \n",
       "max     8208.0  "
      ]
     },
     "execution_count": 19,
     "metadata": {
      "tags": []
     },
     "output_type": "execute_result"
    }
   ],
   "source": [
    "info[info.cluster == 8208].describe()"
   ]
  },
  {
   "cell_type": "code",
   "execution_count": 0,
   "metadata": {
    "colab": {},
    "colab_type": "code",
    "id": "C9pb7OCliLgI",
    "outputId": "a64a1b5b-f6e4-47b6-fb7c-3d318a92c6c2"
   },
   "outputs": [
    {
     "data": {
      "text/html": [
       "<div>\n",
       "<style scoped>\n",
       "    .dataframe tbody tr th:only-of-type {\n",
       "        vertical-align: middle;\n",
       "    }\n",
       "\n",
       "    .dataframe tbody tr th {\n",
       "        vertical-align: top;\n",
       "    }\n",
       "\n",
       "    .dataframe thead th {\n",
       "        text-align: right;\n",
       "    }\n",
       "</style>\n",
       "<table border=\"1\" class=\"dataframe\">\n",
       "  <thead>\n",
       "    <tr style=\"text-align: right;\">\n",
       "      <th></th>\n",
       "      <th>id</th>\n",
       "      <th>tq_v3</th>\n",
       "      <th>tq_dt1_mean</th>\n",
       "      <th>tq_dt2_mean</th>\n",
       "      <th>tq_dt3_mean</th>\n",
       "      <th>tq_dt4_mean</th>\n",
       "      <th>tq_dt1_std</th>\n",
       "      <th>tq_dt2_std</th>\n",
       "      <th>tq_dt3_std</th>\n",
       "      <th>tq_dt4_std</th>\n",
       "      <th>cluster</th>\n",
       "    </tr>\n",
       "  </thead>\n",
       "  <tbody>\n",
       "    <tr>\n",
       "      <th>count</th>\n",
       "      <td>3508.000000</td>\n",
       "      <td>3508.000000</td>\n",
       "      <td>3508.000000</td>\n",
       "      <td>3508.000000</td>\n",
       "      <td>3508.000000</td>\n",
       "      <td>3508.000000</td>\n",
       "      <td>3508.000000</td>\n",
       "      <td>3508.000000</td>\n",
       "      <td>3508.000000</td>\n",
       "      <td>3508.000000</td>\n",
       "      <td>3508.0</td>\n",
       "    </tr>\n",
       "    <tr>\n",
       "      <th>mean</th>\n",
       "      <td>32698.011117</td>\n",
       "      <td>35.457811</td>\n",
       "      <td>0.116650</td>\n",
       "      <td>0.079584</td>\n",
       "      <td>0.008758</td>\n",
       "      <td>0.011047</td>\n",
       "      <td>0.313642</td>\n",
       "      <td>0.252155</td>\n",
       "      <td>0.057335</td>\n",
       "      <td>0.063876</td>\n",
       "      <td>3366.0</td>\n",
       "    </tr>\n",
       "    <tr>\n",
       "      <th>std</th>\n",
       "      <td>18622.804693</td>\n",
       "      <td>46.968113</td>\n",
       "      <td>0.097869</td>\n",
       "      <td>0.086119</td>\n",
       "      <td>0.027897</td>\n",
       "      <td>0.031868</td>\n",
       "      <td>0.165018</td>\n",
       "      <td>0.164856</td>\n",
       "      <td>0.088197</td>\n",
       "      <td>0.084657</td>\n",
       "      <td>0.0</td>\n",
       "    </tr>\n",
       "    <tr>\n",
       "      <th>min</th>\n",
       "      <td>10.000000</td>\n",
       "      <td>0.000000</td>\n",
       "      <td>0.000000</td>\n",
       "      <td>0.000000</td>\n",
       "      <td>0.000000</td>\n",
       "      <td>0.000000</td>\n",
       "      <td>0.000000</td>\n",
       "      <td>0.000000</td>\n",
       "      <td>0.000000</td>\n",
       "      <td>0.000000</td>\n",
       "      <td>3366.0</td>\n",
       "    </tr>\n",
       "    <tr>\n",
       "      <th>25%</th>\n",
       "      <td>16753.250000</td>\n",
       "      <td>5.000000</td>\n",
       "      <td>0.062500</td>\n",
       "      <td>0.028600</td>\n",
       "      <td>0.000000</td>\n",
       "      <td>0.000000</td>\n",
       "      <td>0.253250</td>\n",
       "      <td>0.172450</td>\n",
       "      <td>0.000000</td>\n",
       "      <td>0.000000</td>\n",
       "      <td>3366.0</td>\n",
       "    </tr>\n",
       "    <tr>\n",
       "      <th>50%</th>\n",
       "      <td>32290.500000</td>\n",
       "      <td>17.000000</td>\n",
       "      <td>0.111100</td>\n",
       "      <td>0.071400</td>\n",
       "      <td>0.000000</td>\n",
       "      <td>0.000000</td>\n",
       "      <td>0.339450</td>\n",
       "      <td>0.273950</td>\n",
       "      <td>0.000000</td>\n",
       "      <td>0.000000</td>\n",
       "      <td>3366.0</td>\n",
       "    </tr>\n",
       "    <tr>\n",
       "      <th>75%</th>\n",
       "      <td>48661.750000</td>\n",
       "      <td>47.000000</td>\n",
       "      <td>0.154800</td>\n",
       "      <td>0.105400</td>\n",
       "      <td>0.010700</td>\n",
       "      <td>0.013600</td>\n",
       "      <td>0.405225</td>\n",
       "      <td>0.340875</td>\n",
       "      <td>0.105025</td>\n",
       "      <td>0.117900</td>\n",
       "      <td>3366.0</td>\n",
       "    </tr>\n",
       "    <tr>\n",
       "      <th>max</th>\n",
       "      <td>65339.000000</td>\n",
       "      <td>345.000000</td>\n",
       "      <td>2.000000</td>\n",
       "      <td>1.000000</td>\n",
       "      <td>1.000000</td>\n",
       "      <td>1.000000</td>\n",
       "      <td>1.500000</td>\n",
       "      <td>1.788900</td>\n",
       "      <td>1.414200</td>\n",
       "      <td>0.816500</td>\n",
       "      <td>3366.0</td>\n",
       "    </tr>\n",
       "  </tbody>\n",
       "</table>\n",
       "</div>"
      ],
      "text/plain": [
       "                 id        tq_v3  tq_dt1_mean  tq_dt2_mean  tq_dt3_mean  \\\n",
       "count   3508.000000  3508.000000  3508.000000  3508.000000  3508.000000   \n",
       "mean   32698.011117    35.457811     0.116650     0.079584     0.008758   \n",
       "std    18622.804693    46.968113     0.097869     0.086119     0.027897   \n",
       "min       10.000000     0.000000     0.000000     0.000000     0.000000   \n",
       "25%    16753.250000     5.000000     0.062500     0.028600     0.000000   \n",
       "50%    32290.500000    17.000000     0.111100     0.071400     0.000000   \n",
       "75%    48661.750000    47.000000     0.154800     0.105400     0.010700   \n",
       "max    65339.000000   345.000000     2.000000     1.000000     1.000000   \n",
       "\n",
       "       tq_dt4_mean   tq_dt1_std   tq_dt2_std   tq_dt3_std   tq_dt4_std  \\\n",
       "count  3508.000000  3508.000000  3508.000000  3508.000000  3508.000000   \n",
       "mean      0.011047     0.313642     0.252155     0.057335     0.063876   \n",
       "std       0.031868     0.165018     0.164856     0.088197     0.084657   \n",
       "min       0.000000     0.000000     0.000000     0.000000     0.000000   \n",
       "25%       0.000000     0.253250     0.172450     0.000000     0.000000   \n",
       "50%       0.000000     0.339450     0.273950     0.000000     0.000000   \n",
       "75%       0.013600     0.405225     0.340875     0.105025     0.117900   \n",
       "max       1.000000     1.500000     1.788900     1.414200     0.816500   \n",
       "\n",
       "       cluster  \n",
       "count   3508.0  \n",
       "mean    3366.0  \n",
       "std        0.0  \n",
       "min     3366.0  \n",
       "25%     3366.0  \n",
       "50%     3366.0  \n",
       "75%     3366.0  \n",
       "max     3366.0  "
      ]
     },
     "execution_count": 20,
     "metadata": {
      "tags": []
     },
     "output_type": "execute_result"
    }
   ],
   "source": [
    "info[info.cluster == 3366].describe()"
   ]
  },
  {
   "cell_type": "markdown",
   "metadata": {
    "colab_type": "text",
    "id": "3q5sToehodTC"
   },
   "source": [
    "## Target variables analysis\n"
   ]
  },
  {
   "cell_type": "markdown",
   "metadata": {
    "colab_type": "text",
    "id": "-TlRSmgGiLgL"
   },
   "source": [
    "Plotting the target variable values for each cluster on box plots (one plot for each of the 8 target variables) to assess the distribution of the target variables in each cluster."
   ]
  },
  {
   "cell_type": "code",
   "execution_count": 0,
   "metadata": {
    "colab": {},
    "colab_type": "code",
    "id": "oGiNHBpoiLgM",
    "outputId": "330ccf42-f911-4076-845e-b01f87bb592c"
   },
   "outputs": [
    {
     "data": {
      "text/plain": [
       "<matplotlib.axes._subplots.AxesSubplot at 0x1a509a4da0>"
      ]
     },
     "execution_count": 21,
     "metadata": {
      "tags": []
     },
     "output_type": "execute_result"
    },
    {
     "data": {
      "image/png": "[encoded data removed]",
      "text/plain": [
       "<Figure size 720x720 with 1 Axes>"
      ]
     },
     "metadata": {
      "needs_background": "light",
      "tags": []
     },
     "output_type": "display_data"
    }
   ],
   "source": [
    "plt.figure(figsize=(10,10))\n",
    "seaborn.boxplot(x='cluster', y= 'tq_dt1_mean', data = info)"
   ]
  },
  {
   "cell_type": "code",
   "execution_count": 0,
   "metadata": {
    "colab": {},
    "colab_type": "code",
    "id": "MzK-0CJqiLgT",
    "outputId": "1179fa4c-faa8-4923-fce9-f8427b2f9427"
   },
   "outputs": [
    {
     "name": "stdout",
     "output_type": "stream",
     "text": [
      "(3689, 11)\n",
      "0        12468\n",
      "1        32442\n",
      "4        45726\n",
      "8        14658\n",
      "15       27900\n",
      "17       35319\n",
      "19       27340\n",
      "21        3668\n",
      "24       31847\n",
      "25       24295\n",
      "27        7637\n",
      "29       22958\n",
      "31       23938\n",
      "33         470\n",
      "37       34673\n",
      "38       45901\n",
      "40       17957\n",
      "41       48590\n",
      "45       64651\n",
      "52       28511\n",
      "56       55817\n",
      "60       36117\n",
      "61       19151\n",
      "62       64478\n",
      "66       31649\n",
      "71        7283\n",
      "74       36025\n",
      "78       40351\n",
      "82       52641\n",
      "83       39725\n",
      "         ...  \n",
      "12941    12815\n",
      "12943    56764\n",
      "12945    53430\n",
      "12949    15893\n",
      "12951    21896\n",
      "12955    44834\n",
      "12956     9077\n",
      "12958    50381\n",
      "12960    16497\n",
      "12964    12701\n",
      "12965    22262\n",
      "12966     8701\n",
      "12970    59950\n",
      "12973    20075\n",
      "12979    48545\n",
      "12982    47393\n",
      "12983     8434\n",
      "12986    23179\n",
      "12992    62343\n",
      "12997    12861\n",
      "12998    36499\n",
      "13003    15706\n",
      "13009    35444\n",
      "13013    14425\n",
      "13017    14747\n",
      "13023    51313\n",
      "13026    58928\n",
      "13030    39059\n",
      "13031    25080\n",
      "13036    35761\n",
      "Name: id, Length: 3689, dtype: int64\n"
     ]
    }
   ],
   "source": [
    "cluster8208 = info[info.cluster == 8208] \n",
    "print(cluster8208.shape)\n",
    "print(cluster8208.id)"
   ]
  },
  {
   "cell_type": "markdown",
   "metadata": {
    "colab_type": "text",
    "id": "pqHRHhYriLgc"
   },
   "source": [
    "Investigate the tq_v3 value"
   ]
  },
  {
   "cell_type": "code",
   "execution_count": 0,
   "metadata": {
    "colab": {},
    "colab_type": "code",
    "id": "ChGMOm0ZiLgc"
   },
   "outputs": [],
   "source": [
    "datainfo2 = pd.DataFrame(df_all[['id', 'tq_v3']])"
   ]
  },
  {
   "cell_type": "code",
   "execution_count": 0,
   "metadata": {
    "colab": {},
    "colab_type": "code",
    "id": "VOY0U-NwiLgf"
   },
   "outputs": [],
   "source": [
    "clustering_labels.reset_index(drop=True, inplace=True)\n",
    "datainfo2.reset_index(drop=True, inplace=True)"
   ]
  },
  {
   "cell_type": "code",
   "execution_count": 0,
   "metadata": {
    "colab": {},
    "colab_type": "code",
    "id": "qb-wIUJmiLgh"
   },
   "outputs": [],
   "source": [
    "tq_v3_clusters = pd.concat([datainfo2,clustering_labels], axis = 1)"
   ]
  },
  {
   "cell_type": "code",
   "execution_count": 0,
   "metadata": {
    "colab": {},
    "colab_type": "code",
    "id": "nJ8f6Eb4iLgl",
    "outputId": "2f14a29d-9710-4b4e-cae8-618421984835",
    "scrolled": true
   },
   "outputs": [
    {
     "data": {
      "text/html": [
       "<div>\n",
       "<style scoped>\n",
       "    .dataframe tbody tr th:only-of-type {\n",
       "        vertical-align: middle;\n",
       "    }\n",
       "\n",
       "    .dataframe tbody tr th {\n",
       "        vertical-align: top;\n",
       "    }\n",
       "\n",
       "    .dataframe thead th {\n",
       "        text-align: right;\n",
       "    }\n",
       "</style>\n",
       "<table border=\"1\" class=\"dataframe\">\n",
       "  <thead>\n",
       "    <tr style=\"text-align: right;\">\n",
       "      <th></th>\n",
       "      <th>id</th>\n",
       "      <th>tq_v3</th>\n",
       "      <th>cluster</th>\n",
       "    </tr>\n",
       "  </thead>\n",
       "  <tbody>\n",
       "    <tr>\n",
       "      <th>0</th>\n",
       "      <td>12468</td>\n",
       "      <td>0.101440</td>\n",
       "      <td>8208</td>\n",
       "    </tr>\n",
       "    <tr>\n",
       "      <th>1</th>\n",
       "      <td>32442</td>\n",
       "      <td>0.022524</td>\n",
       "      <td>8208</td>\n",
       "    </tr>\n",
       "    <tr>\n",
       "      <th>2</th>\n",
       "      <td>26216</td>\n",
       "      <td>0.018076</td>\n",
       "      <td>3366</td>\n",
       "    </tr>\n",
       "    <tr>\n",
       "      <th>3</th>\n",
       "      <td>50550</td>\n",
       "      <td>0.006899</td>\n",
       "      <td>8947</td>\n",
       "    </tr>\n",
       "    <tr>\n",
       "      <th>4</th>\n",
       "      <td>45726</td>\n",
       "      <td>0.013147</td>\n",
       "      <td>8208</td>\n",
       "    </tr>\n",
       "    <tr>\n",
       "      <th>5</th>\n",
       "      <td>52654</td>\n",
       "      <td>0.005956</td>\n",
       "      <td>8947</td>\n",
       "    </tr>\n",
       "    <tr>\n",
       "      <th>6</th>\n",
       "      <td>32587</td>\n",
       "      <td>0.301703</td>\n",
       "      <td>5637</td>\n",
       "    </tr>\n",
       "    <tr>\n",
       "      <th>7</th>\n",
       "      <td>65030</td>\n",
       "      <td>0.614943</td>\n",
       "      <td>5637</td>\n",
       "    </tr>\n",
       "    <tr>\n",
       "      <th>8</th>\n",
       "      <td>14658</td>\n",
       "      <td>0.041496</td>\n",
       "      <td>8208</td>\n",
       "    </tr>\n",
       "    <tr>\n",
       "      <th>9</th>\n",
       "      <td>39706</td>\n",
       "      <td>0.000000</td>\n",
       "      <td>8947</td>\n",
       "    </tr>\n",
       "    <tr>\n",
       "      <th>10</th>\n",
       "      <td>8406</td>\n",
       "      <td>0.000000</td>\n",
       "      <td>8947</td>\n",
       "    </tr>\n",
       "    <tr>\n",
       "      <th>11</th>\n",
       "      <td>49431</td>\n",
       "      <td>0.348913</td>\n",
       "      <td>3366</td>\n",
       "    </tr>\n",
       "    <tr>\n",
       "      <th>12</th>\n",
       "      <td>64920</td>\n",
       "      <td>0.191481</td>\n",
       "      <td>3366</td>\n",
       "    </tr>\n",
       "    <tr>\n",
       "      <th>13</th>\n",
       "      <td>6564</td>\n",
       "      <td>0.314948</td>\n",
       "      <td>5637</td>\n",
       "    </tr>\n",
       "    <tr>\n",
       "      <th>14</th>\n",
       "      <td>51789</td>\n",
       "      <td>0.310432</td>\n",
       "      <td>3366</td>\n",
       "    </tr>\n",
       "    <tr>\n",
       "      <th>15</th>\n",
       "      <td>27900</td>\n",
       "      <td>0.075882</td>\n",
       "      <td>8208</td>\n",
       "    </tr>\n",
       "    <tr>\n",
       "      <th>16</th>\n",
       "      <td>44797</td>\n",
       "      <td>0.412761</td>\n",
       "      <td>5637</td>\n",
       "    </tr>\n",
       "    <tr>\n",
       "      <th>17</th>\n",
       "      <td>35319</td>\n",
       "      <td>0.265881</td>\n",
       "      <td>8208</td>\n",
       "    </tr>\n",
       "    <tr>\n",
       "      <th>18</th>\n",
       "      <td>28574</td>\n",
       "      <td>0.367577</td>\n",
       "      <td>5637</td>\n",
       "    </tr>\n",
       "    <tr>\n",
       "      <th>19</th>\n",
       "      <td>27340</td>\n",
       "      <td>0.032685</td>\n",
       "      <td>8208</td>\n",
       "    </tr>\n",
       "    <tr>\n",
       "      <th>20</th>\n",
       "      <td>40360</td>\n",
       "      <td>0.327986</td>\n",
       "      <td>5637</td>\n",
       "    </tr>\n",
       "    <tr>\n",
       "      <th>21</th>\n",
       "      <td>3668</td>\n",
       "      <td>0.035365</td>\n",
       "      <td>8208</td>\n",
       "    </tr>\n",
       "    <tr>\n",
       "      <th>22</th>\n",
       "      <td>40835</td>\n",
       "      <td>0.217703</td>\n",
       "      <td>3366</td>\n",
       "    </tr>\n",
       "    <tr>\n",
       "      <th>23</th>\n",
       "      <td>35446</td>\n",
       "      <td>0.006421</td>\n",
       "      <td>3366</td>\n",
       "    </tr>\n",
       "    <tr>\n",
       "      <th>24</th>\n",
       "      <td>31847</td>\n",
       "      <td>0.060809</td>\n",
       "      <td>8208</td>\n",
       "    </tr>\n",
       "    <tr>\n",
       "      <th>25</th>\n",
       "      <td>24295</td>\n",
       "      <td>0.257178</td>\n",
       "      <td>8208</td>\n",
       "    </tr>\n",
       "    <tr>\n",
       "      <th>26</th>\n",
       "      <td>19234</td>\n",
       "      <td>0.006988</td>\n",
       "      <td>8947</td>\n",
       "    </tr>\n",
       "    <tr>\n",
       "      <th>27</th>\n",
       "      <td>7637</td>\n",
       "      <td>0.084742</td>\n",
       "      <td>8208</td>\n",
       "    </tr>\n",
       "    <tr>\n",
       "      <th>28</th>\n",
       "      <td>6978</td>\n",
       "      <td>0.014720</td>\n",
       "      <td>8947</td>\n",
       "    </tr>\n",
       "    <tr>\n",
       "      <th>29</th>\n",
       "      <td>22958</td>\n",
       "      <td>0.058677</td>\n",
       "      <td>8208</td>\n",
       "    </tr>\n",
       "    <tr>\n",
       "      <th>...</th>\n",
       "      <td>...</td>\n",
       "      <td>...</td>\n",
       "      <td>...</td>\n",
       "    </tr>\n",
       "    <tr>\n",
       "      <th>13009</th>\n",
       "      <td>35444</td>\n",
       "      <td>0.119707</td>\n",
       "      <td>8208</td>\n",
       "    </tr>\n",
       "    <tr>\n",
       "      <th>13010</th>\n",
       "      <td>14611</td>\n",
       "      <td>0.030781</td>\n",
       "      <td>3366</td>\n",
       "    </tr>\n",
       "    <tr>\n",
       "      <th>13011</th>\n",
       "      <td>52435</td>\n",
       "      <td>0.246564</td>\n",
       "      <td>3366</td>\n",
       "    </tr>\n",
       "    <tr>\n",
       "      <th>13012</th>\n",
       "      <td>38630</td>\n",
       "      <td>0.054719</td>\n",
       "      <td>3366</td>\n",
       "    </tr>\n",
       "    <tr>\n",
       "      <th>13013</th>\n",
       "      <td>14425</td>\n",
       "      <td>0.019926</td>\n",
       "      <td>8208</td>\n",
       "    </tr>\n",
       "    <tr>\n",
       "      <th>13014</th>\n",
       "      <td>12234</td>\n",
       "      <td>0.018918</td>\n",
       "      <td>3366</td>\n",
       "    </tr>\n",
       "    <tr>\n",
       "      <th>13015</th>\n",
       "      <td>63839</td>\n",
       "      <td>0.485546</td>\n",
       "      <td>3366</td>\n",
       "    </tr>\n",
       "    <tr>\n",
       "      <th>13016</th>\n",
       "      <td>62003</td>\n",
       "      <td>0.430294</td>\n",
       "      <td>5637</td>\n",
       "    </tr>\n",
       "    <tr>\n",
       "      <th>13017</th>\n",
       "      <td>14747</td>\n",
       "      <td>0.077646</td>\n",
       "      <td>8208</td>\n",
       "    </tr>\n",
       "    <tr>\n",
       "      <th>13018</th>\n",
       "      <td>48321</td>\n",
       "      <td>0.037357</td>\n",
       "      <td>3366</td>\n",
       "    </tr>\n",
       "    <tr>\n",
       "      <th>13019</th>\n",
       "      <td>48711</td>\n",
       "      <td>0.007391</td>\n",
       "      <td>3366</td>\n",
       "    </tr>\n",
       "    <tr>\n",
       "      <th>13020</th>\n",
       "      <td>18243</td>\n",
       "      <td>0.066373</td>\n",
       "      <td>3366</td>\n",
       "    </tr>\n",
       "    <tr>\n",
       "      <th>13021</th>\n",
       "      <td>13797</td>\n",
       "      <td>0.000000</td>\n",
       "      <td>8947</td>\n",
       "    </tr>\n",
       "    <tr>\n",
       "      <th>13022</th>\n",
       "      <td>19166</td>\n",
       "      <td>0.000000</td>\n",
       "      <td>8947</td>\n",
       "    </tr>\n",
       "    <tr>\n",
       "      <th>13023</th>\n",
       "      <td>51313</td>\n",
       "      <td>0.012333</td>\n",
       "      <td>8208</td>\n",
       "    </tr>\n",
       "    <tr>\n",
       "      <th>13024</th>\n",
       "      <td>45100</td>\n",
       "      <td>0.569739</td>\n",
       "      <td>5637</td>\n",
       "    </tr>\n",
       "    <tr>\n",
       "      <th>13025</th>\n",
       "      <td>8907</td>\n",
       "      <td>0.541000</td>\n",
       "      <td>5637</td>\n",
       "    </tr>\n",
       "    <tr>\n",
       "      <th>13026</th>\n",
       "      <td>58928</td>\n",
       "      <td>0.090249</td>\n",
       "      <td>8208</td>\n",
       "    </tr>\n",
       "    <tr>\n",
       "      <th>13027</th>\n",
       "      <td>50225</td>\n",
       "      <td>0.467720</td>\n",
       "      <td>5637</td>\n",
       "    </tr>\n",
       "    <tr>\n",
       "      <th>13028</th>\n",
       "      <td>45593</td>\n",
       "      <td>0.208721</td>\n",
       "      <td>3366</td>\n",
       "    </tr>\n",
       "    <tr>\n",
       "      <th>13029</th>\n",
       "      <td>8573</td>\n",
       "      <td>0.012326</td>\n",
       "      <td>8947</td>\n",
       "    </tr>\n",
       "    <tr>\n",
       "      <th>13030</th>\n",
       "      <td>39059</td>\n",
       "      <td>0.133701</td>\n",
       "      <td>8208</td>\n",
       "    </tr>\n",
       "    <tr>\n",
       "      <th>13031</th>\n",
       "      <td>25080</td>\n",
       "      <td>0.033300</td>\n",
       "      <td>8208</td>\n",
       "    </tr>\n",
       "    <tr>\n",
       "      <th>13032</th>\n",
       "      <td>32605</td>\n",
       "      <td>0.497614</td>\n",
       "      <td>5637</td>\n",
       "    </tr>\n",
       "    <tr>\n",
       "      <th>13033</th>\n",
       "      <td>43952</td>\n",
       "      <td>0.488722</td>\n",
       "      <td>5637</td>\n",
       "    </tr>\n",
       "    <tr>\n",
       "      <th>13034</th>\n",
       "      <td>9088</td>\n",
       "      <td>0.015053</td>\n",
       "      <td>8947</td>\n",
       "    </tr>\n",
       "    <tr>\n",
       "      <th>13035</th>\n",
       "      <td>48647</td>\n",
       "      <td>0.418761</td>\n",
       "      <td>5637</td>\n",
       "    </tr>\n",
       "    <tr>\n",
       "      <th>13036</th>\n",
       "      <td>35761</td>\n",
       "      <td>0.084535</td>\n",
       "      <td>8208</td>\n",
       "    </tr>\n",
       "    <tr>\n",
       "      <th>13037</th>\n",
       "      <td>56443</td>\n",
       "      <td>0.297725</td>\n",
       "      <td>5637</td>\n",
       "    </tr>\n",
       "    <tr>\n",
       "      <th>13038</th>\n",
       "      <td>1701</td>\n",
       "      <td>0.349032</td>\n",
       "      <td>5637</td>\n",
       "    </tr>\n",
       "  </tbody>\n",
       "</table>\n",
       "<p>13039 rows × 3 columns</p>\n",
       "</div>"
      ],
      "text/plain": [
       "          id     tq_v3  cluster\n",
       "0      12468  0.101440     8208\n",
       "1      32442  0.022524     8208\n",
       "2      26216  0.018076     3366\n",
       "3      50550  0.006899     8947\n",
       "4      45726  0.013147     8208\n",
       "5      52654  0.005956     8947\n",
       "6      32587  0.301703     5637\n",
       "7      65030  0.614943     5637\n",
       "8      14658  0.041496     8208\n",
       "9      39706  0.000000     8947\n",
       "10      8406  0.000000     8947\n",
       "11     49431  0.348913     3366\n",
       "12     64920  0.191481     3366\n",
       "13      6564  0.314948     5637\n",
       "14     51789  0.310432     3366\n",
       "15     27900  0.075882     8208\n",
       "16     44797  0.412761     5637\n",
       "17     35319  0.265881     8208\n",
       "18     28574  0.367577     5637\n",
       "19     27340  0.032685     8208\n",
       "20     40360  0.327986     5637\n",
       "21      3668  0.035365     8208\n",
       "22     40835  0.217703     3366\n",
       "23     35446  0.006421     3366\n",
       "24     31847  0.060809     8208\n",
       "25     24295  0.257178     8208\n",
       "26     19234  0.006988     8947\n",
       "27      7637  0.084742     8208\n",
       "28      6978  0.014720     8947\n",
       "29     22958  0.058677     8208\n",
       "...      ...       ...      ...\n",
       "13009  35444  0.119707     8208\n",
       "13010  14611  0.030781     3366\n",
       "13011  52435  0.246564     3366\n",
       "13012  38630  0.054719     3366\n",
       "13013  14425  0.019926     8208\n",
       "13014  12234  0.018918     3366\n",
       "13015  63839  0.485546     3366\n",
       "13016  62003  0.430294     5637\n",
       "13017  14747  0.077646     8208\n",
       "13018  48321  0.037357     3366\n",
       "13019  48711  0.007391     3366\n",
       "13020  18243  0.066373     3366\n",
       "13021  13797  0.000000     8947\n",
       "13022  19166  0.000000     8947\n",
       "13023  51313  0.012333     8208\n",
       "13024  45100  0.569739     5637\n",
       "13025   8907  0.541000     5637\n",
       "13026  58928  0.090249     8208\n",
       "13027  50225  0.467720     5637\n",
       "13028  45593  0.208721     3366\n",
       "13029   8573  0.012326     8947\n",
       "13030  39059  0.133701     8208\n",
       "13031  25080  0.033300     8208\n",
       "13032  32605  0.497614     5637\n",
       "13033  43952  0.488722     5637\n",
       "13034   9088  0.015053     8947\n",
       "13035  48647  0.418761     5637\n",
       "13036  35761  0.084535     8208\n",
       "13037  56443  0.297725     5637\n",
       "13038   1701  0.349032     5637\n",
       "\n",
       "[13039 rows x 3 columns]"
      ]
     },
     "execution_count": 26,
     "metadata": {
      "tags": []
     },
     "output_type": "execute_result"
    }
   ],
   "source": [
    "tq_v3_clusters"
   ]
  },
  {
   "cell_type": "code",
   "execution_count": 0,
   "metadata": {
    "colab": {},
    "colab_type": "code",
    "id": "cuNAzK00iLgo",
    "outputId": "0d9084ca-d9f3-4afb-8a1e-eabeddb21575"
   },
   "outputs": [
    {
     "data": {
      "text/plain": [
       "8947    2642\n",
       "5637    3200\n",
       "3366    3508\n",
       "8208    3689\n",
       "Name: cluster, dtype: int64"
      ]
     },
     "execution_count": 27,
     "metadata": {
      "tags": []
     },
     "output_type": "execute_result"
    }
   ],
   "source": [
    "size = tq_v3_clusters['cluster'].value_counts()\n",
    "size.sort_values()"
   ]
  },
  {
   "cell_type": "markdown",
   "metadata": {
    "colab_type": "text",
    "id": "c_5dypZkiLgr"
   },
   "source": [
    "Scaled mean value of tq_v3"
   ]
  },
  {
   "cell_type": "code",
   "execution_count": 0,
   "metadata": {
    "colab": {},
    "colab_type": "code",
    "id": "aoAkVVtniLgs",
    "outputId": "046d8ef9-a1d4-4fb6-9704-93f52823ed53"
   },
   "outputs": [
    {
     "data": {
      "text/plain": [
       "cluster\n",
       "8947    0.016713\n",
       "8208    0.110738\n",
       "3366    0.154678\n",
       "5637    0.413281\n",
       "Name: tq_v3, dtype: float64"
      ]
     },
     "execution_count": 28,
     "metadata": {
      "tags": []
     },
     "output_type": "execute_result"
    }
   ],
   "source": [
    "tq_v3 =tq_v3_clusters.groupby('cluster')['tq_v3'].mean()\n",
    "tq_v3.sort_values()"
   ]
  },
  {
   "cell_type": "markdown",
   "metadata": {
    "colab_type": "text",
    "id": "KKjRyDAViLgv"
   },
   "source": [
    "Non-scaled mean value of tq_v3"
   ]
  },
  {
   "cell_type": "code",
   "execution_count": 0,
   "metadata": {
    "colab": {},
    "colab_type": "code",
    "id": "emzd5TzIiLgv",
    "outputId": "0622fbb6-d7fe-4ee1-b0f5-8c487a5aac2e"
   },
   "outputs": [
    {
     "data": {
      "text/plain": [
       "cluster\n",
       "8947      2.624905\n",
       "8208     21.821632\n",
       "3366     35.457811\n",
       "5637    548.111562\n",
       "Name: tq_v3, dtype: float64"
      ]
     },
     "execution_count": 29,
     "metadata": {
      "tags": []
     },
     "output_type": "execute_result"
    }
   ],
   "source": [
    "tq_v3 =info.groupby('cluster')['tq_v3'].mean()\n",
    "tq_v3.sort_values()"
   ]
  },
  {
   "cell_type": "markdown",
   "metadata": {
    "colab_type": "text",
    "id": "rJk2sYgxiLgx"
   },
   "source": [
    "## t-SNE Visualisation"
   ]
  },
  {
   "cell_type": "markdown",
   "metadata": {
    "colab_type": "text",
    "id": "Zy6m4uu8iLgz"
   },
   "source": [
    "Plot the clusters with t-SNE to visualise the clusters "
   ]
  },
  {
   "cell_type": "code",
   "execution_count": 0,
   "metadata": {
    "colab": {},
    "colab_type": "code",
    "id": "BQTmaS5LiLg1"
   },
   "outputs": [],
   "source": [
    "D_square_TSNE = TSNE(n_components=2, metric = 'precomputed', random_state=123).fit_transform(D_3_square) #use two componenets, so can be plotted in 2D\n",
    "\n",
    "# Select the 0th feature: xs\n",
    "x = D_square_TSNE[:,0]\n",
    "# Select the 1st feature: ys\n",
    "y = D_square_TSNE[:,1]"
   ]
  },
  {
   "cell_type": "code",
   "execution_count": 0,
   "metadata": {
    "colab": {},
    "colab_type": "code",
    "id": "vi7ZJo4diLg4",
    "outputId": "297a2220-044f-472c-f599-5e64239e3b00"
   },
   "outputs": [
    {
     "data": {
      "text/plain": [
       "<matplotlib.collections.PathCollection at 0x1aa6aa64a8>"
      ]
     },
     "execution_count": 31,
     "metadata": {
      "tags": []
     },
     "output_type": "execute_result"
    },
    {
     "data": {
      "image/png": "[encoded data removed]",
      "text/plain": [
       "<Figure size 720x576 with 1 Axes>"
      ]
     },
     "metadata": {
      "needs_background": "light",
      "tags": []
     },
     "output_type": "display_data"
    }
   ],
   "source": [
    "plt.figure(figsize=(10, 8))\n",
    "plt.scatter(x, y, s=50, linewidth=0, c='b', alpha=0.25)"
   ]
  },
  {
   "cell_type": "code",
   "execution_count": 0,
   "metadata": {
    "colab": {},
    "colab_type": "code",
    "id": "LqWSE16qiLg7"
   },
   "outputs": [],
   "source": [
    "D_square_TSNE =  pd.DataFrame(D_square_TSNE, columns=['D_square_TSNE_x','D_square_TSNE_y'])"
   ]
  },
  {
   "cell_type": "code",
   "execution_count": 0,
   "metadata": {
    "colab": {},
    "colab_type": "code",
    "id": "0OfsgYWHiLg9"
   },
   "outputs": [],
   "source": [
    "D_square_TSNE = pd.concat([D_square_TSNE,clustering_labels], axis = 1)"
   ]
  },
  {
   "cell_type": "code",
   "execution_count": 0,
   "metadata": {
    "colab": {},
    "colab_type": "code",
    "id": "UB3TRDzZiLg_",
    "outputId": "9ba3e9ec-5571-4047-983c-ad998dd442a4"
   },
   "outputs": [
    {
     "data": {
      "text/html": [
       "<div>\n",
       "<style scoped>\n",
       "    .dataframe tbody tr th:only-of-type {\n",
       "        vertical-align: middle;\n",
       "    }\n",
       "\n",
       "    .dataframe tbody tr th {\n",
       "        vertical-align: top;\n",
       "    }\n",
       "\n",
       "    .dataframe thead th {\n",
       "        text-align: right;\n",
       "    }\n",
       "</style>\n",
       "<table border=\"1\" class=\"dataframe\">\n",
       "  <thead>\n",
       "    <tr style=\"text-align: right;\">\n",
       "      <th></th>\n",
       "      <th>D_square_TSNE_x</th>\n",
       "      <th>D_square_TSNE_y</th>\n",
       "      <th>cluster</th>\n",
       "    </tr>\n",
       "  </thead>\n",
       "  <tbody>\n",
       "    <tr>\n",
       "      <th>0</th>\n",
       "      <td>-21.228294</td>\n",
       "      <td>32.767761</td>\n",
       "      <td>8208</td>\n",
       "    </tr>\n",
       "    <tr>\n",
       "      <th>1</th>\n",
       "      <td>3.023602</td>\n",
       "      <td>-11.961539</td>\n",
       "      <td>8208</td>\n",
       "    </tr>\n",
       "    <tr>\n",
       "      <th>2</th>\n",
       "      <td>3.882936</td>\n",
       "      <td>29.398232</td>\n",
       "      <td>3366</td>\n",
       "    </tr>\n",
       "    <tr>\n",
       "      <th>3</th>\n",
       "      <td>-11.283945</td>\n",
       "      <td>-29.191425</td>\n",
       "      <td>8947</td>\n",
       "    </tr>\n",
       "    <tr>\n",
       "      <th>4</th>\n",
       "      <td>4.687564</td>\n",
       "      <td>-17.569279</td>\n",
       "      <td>8208</td>\n",
       "    </tr>\n",
       "  </tbody>\n",
       "</table>\n",
       "</div>"
      ],
      "text/plain": [
       "   D_square_TSNE_x  D_square_TSNE_y  cluster\n",
       "0       -21.228294        32.767761     8208\n",
       "1         3.023602       -11.961539     8208\n",
       "2         3.882936        29.398232     3366\n",
       "3       -11.283945       -29.191425     8947\n",
       "4         4.687564       -17.569279     8208"
      ]
     },
     "execution_count": 34,
     "metadata": {
      "tags": []
     },
     "output_type": "execute_result"
    }
   ],
   "source": [
    "D_square_TSNE.head()"
   ]
  },
  {
   "cell_type": "code",
   "execution_count": 0,
   "metadata": {
    "colab": {},
    "colab_type": "code",
    "id": "bvWFUAp1iLhD"
   },
   "outputs": [],
   "source": [
    "%matplotlib inline \n",
    "\n",
    "#set font size of labels on matplotlib plots\n",
    "plt.rc('font', size=20)"
   ]
  },
  {
   "cell_type": "code",
   "execution_count": 0,
   "metadata": {
    "colab": {},
    "colab_type": "code",
    "id": "wOprQUBviLhG",
    "outputId": "64dd08dc-4a4a-427d-8480-bedd413d4b0a"
   },
   "outputs": [
    {
     "name": "stderr",
     "output_type": "stream",
     "text": [
      "/Users/koonkarnarthasarnprasit/anaconda3/lib/python3.7/site-packages/seaborn/regression.py:546: UserWarning: The `size` paramter has been renamed to `height`; please update your code.\n",
      "  warnings.warn(msg, UserWarning)\n"
     ]
    },
    {
     "data": {
      "text/plain": [
       "<seaborn.axisgrid.FacetGrid at 0x1a507aa908>"
      ]
     },
     "execution_count": 36,
     "metadata": {
      "tags": []
     },
     "output_type": "execute_result"
    },
    {
     "data": {
      "image/png": "[encoded data removed]",
      "text/plain": [
       "<Figure size 663.125x540 with 1 Axes>"
      ]
     },
     "metadata": {
      "needs_background": "light",
      "tags": []
     },
     "output_type": "display_data"
    }
   ],
   "source": [
    "sns.lmplot(data=D_square_TSNE, x='D_square_TSNE_x', y='D_square_TSNE_y', hue='cluster', size =7.5, fit_reg=False, legend=True, legend_out=True\n",
    "          )  "
   ]
  },
  {
   "cell_type": "code",
   "execution_count": 0,
   "metadata": {
    "colab": {},
    "colab_type": "code",
    "id": "1aZ7bzoOiLhL"
   },
   "outputs": [],
   "source": []
  }
 ],
 "metadata": {
  "colab": {
   "name": "06_KMedoids.ipynb",
   "provenance": [],
   "version": "0.3.2"
  },
  "kernelspec": {
   "display_name": "Python 3",
   "language": "python",
   "name": "python3"
  },
  "language_info": {
   "codemirror_mode": {
    "name": "ipython",
    "version": 3
   },
   "file_extension": ".py",
   "mimetype": "text/x-python",
   "name": "python",
   "nbconvert_exporter": "python",
   "pygments_lexer": "ipython3",
   "version": "3.7.2"
  }
 },
 "nbformat": 4,
 "nbformat_minor": 1
}
